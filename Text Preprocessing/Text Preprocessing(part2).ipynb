{
 "cells": [
  {
   "cell_type": "markdown",
   "id": "0922a96c",
   "metadata": {},
   "source": [
    "# Spelling correction"
   ]
  },
  {
   "cell_type": "code",
   "execution_count": null,
   "id": "7c2c97e4",
   "metadata": {},
   "outputs": [],
   "source": [
    "from textblob import TextBlob"
   ]
  },
  {
   "cell_type": "code",
   "execution_count": 5,
   "id": "8a088f9a",
   "metadata": {},
   "outputs": [],
   "source": [
    "incorrect_text='ceertain conditionas duriingg seveal ggenerations aree modified in the saame maner'"
   ]
  },
  {
   "cell_type": "code",
   "execution_count": 7,
   "id": "31212da6",
   "metadata": {},
   "outputs": [],
   "source": [
    "textblb=TextBlob(incorrect_text)"
   ]
  },
  {
   "cell_type": "code",
   "execution_count": 8,
   "id": "09bd451e",
   "metadata": {},
   "outputs": [
    {
     "data": {
      "text/plain": [
       "'certain conditions during several generations are modified in the same manner'"
      ]
     },
     "execution_count": 8,
     "metadata": {},
     "output_type": "execute_result"
    }
   ],
   "source": [
    "textblb.correct().string"
   ]
  },
  {
   "cell_type": "markdown",
   "id": "9f86c1f8",
   "metadata": {},
   "source": [
    "# Remove stop words"
   ]
  },
  {
   "cell_type": "code",
   "execution_count": 11,
   "id": "57db3237",
   "metadata": {},
   "outputs": [],
   "source": [
    "from nltk.corpus import stopwords"
   ]
  },
  {
   "cell_type": "code",
   "execution_count": 13,
   "id": "97d7c83d",
   "metadata": {},
   "outputs": [],
   "source": [
    "words=stopwords.words('english')"
   ]
  },
  {
   "cell_type": "code",
   "execution_count": 27,
   "id": "19ce2b14",
   "metadata": {},
   "outputs": [],
   "source": [
    "def remove_stopwords(text):\n",
    "    new_text=[]\n",
    "    for word in text.split():\n",
    "        if word in stopwords.words('english'):\n",
    "            new_text.append('')\n",
    "        else:\n",
    "            new_text.append(word)\n",
    "    x=new_text[:]\n",
    "    new_text.clear()\n",
    "    return \" \".join(x)"
   ]
  },
  {
   "cell_type": "code",
   "execution_count": 19,
   "id": "7dd0c38e",
   "metadata": {},
   "outputs": [
    {
     "data": {
      "text/plain": [
       "'I  busy'"
      ]
     },
     "execution_count": 19,
     "metadata": {},
     "output_type": "execute_result"
    }
   ],
   "source": [
    "remove_stopwords('I am busy')"
   ]
  },
  {
   "cell_type": "markdown",
   "id": "f08361ae",
   "metadata": {},
   "source": [
    "# Apply on dataset"
   ]
  },
  {
   "cell_type": "code",
   "execution_count": 21,
   "id": "bb047cc1",
   "metadata": {},
   "outputs": [],
   "source": [
    "import pandas as pd"
   ]
  },
  {
   "cell_type": "code",
   "execution_count": 24,
   "id": "04e697c7",
   "metadata": {},
   "outputs": [],
   "source": [
    "df=pd.read_csv('D:/Data/IMDB.csv')"
   ]
  },
  {
   "cell_type": "code",
   "execution_count": 25,
   "id": "1561256b",
   "metadata": {},
   "outputs": [
    {
     "data": {
      "text/html": [
       "<div>\n",
       "<style scoped>\n",
       "    .dataframe tbody tr th:only-of-type {\n",
       "        vertical-align: middle;\n",
       "    }\n",
       "\n",
       "    .dataframe tbody tr th {\n",
       "        vertical-align: top;\n",
       "    }\n",
       "\n",
       "    .dataframe thead th {\n",
       "        text-align: right;\n",
       "    }\n",
       "</style>\n",
       "<table border=\"1\" class=\"dataframe\">\n",
       "  <thead>\n",
       "    <tr style=\"text-align: right;\">\n",
       "      <th></th>\n",
       "      <th>review</th>\n",
       "      <th>sentiment</th>\n",
       "    </tr>\n",
       "  </thead>\n",
       "  <tbody>\n",
       "    <tr>\n",
       "      <th>0</th>\n",
       "      <td>One of the other reviewers has mentioned that ...</td>\n",
       "      <td>positive</td>\n",
       "    </tr>\n",
       "    <tr>\n",
       "      <th>1</th>\n",
       "      <td>A wonderful little production. &lt;br /&gt;&lt;br /&gt;The...</td>\n",
       "      <td>positive</td>\n",
       "    </tr>\n",
       "    <tr>\n",
       "      <th>2</th>\n",
       "      <td>I thought this was a wonderful way to spend ti...</td>\n",
       "      <td>positive</td>\n",
       "    </tr>\n",
       "    <tr>\n",
       "      <th>3</th>\n",
       "      <td>Basically there's a family where a little boy ...</td>\n",
       "      <td>negative</td>\n",
       "    </tr>\n",
       "    <tr>\n",
       "      <th>4</th>\n",
       "      <td>Petter Mattei's \"Love in the Time of Money\" is...</td>\n",
       "      <td>positive</td>\n",
       "    </tr>\n",
       "  </tbody>\n",
       "</table>\n",
       "</div>"
      ],
      "text/plain": [
       "                                              review sentiment\n",
       "0  One of the other reviewers has mentioned that ...  positive\n",
       "1  A wonderful little production. <br /><br />The...  positive\n",
       "2  I thought this was a wonderful way to spend ti...  positive\n",
       "3  Basically there's a family where a little boy ...  negative\n",
       "4  Petter Mattei's \"Love in the Time of Money\" is...  positive"
      ]
     },
     "execution_count": 25,
     "metadata": {},
     "output_type": "execute_result"
    }
   ],
   "source": [
    "df.head(5)"
   ]
  },
  {
   "cell_type": "code",
   "execution_count": null,
   "id": "aaf8da32",
   "metadata": {},
   "outputs": [],
   "source": []
  },
  {
   "cell_type": "markdown",
   "id": "a55da047",
   "metadata": {},
   "source": [
    "# Remove emoji and add meaning of emoji in documents"
   ]
  },
  {
   "cell_type": "code",
   "execution_count": 3,
   "id": "39695cea",
   "metadata": {},
   "outputs": [],
   "source": [
    "import emoji"
   ]
  },
  {
   "cell_type": "code",
   "execution_count": 4,
   "id": "01e7a2a8",
   "metadata": {},
   "outputs": [
    {
     "data": {
      "text/plain": [
       "'python is :fire:'"
      ]
     },
     "execution_count": 4,
     "metadata": {},
     "output_type": "execute_result"
    }
   ],
   "source": [
    "emoji.demojize('python is 🔥')"
   ]
  },
  {
   "cell_type": "code",
   "execution_count": 5,
   "id": "d75c4788",
   "metadata": {},
   "outputs": [
    {
     "data": {
      "text/plain": [
       "'i am very very :grinning_face_with_big_eyes:'"
      ]
     },
     "execution_count": 5,
     "metadata": {},
     "output_type": "execute_result"
    }
   ],
   "source": [
    "emoji.demojize('i am very very 😃')"
   ]
  },
  {
   "cell_type": "markdown",
   "id": "712a8927",
   "metadata": {},
   "source": [
    "# Tokenization"
   ]
  },
  {
   "cell_type": "markdown",
   "id": "c6a8b820",
   "metadata": {},
   "source": [
    "# Word tokenization"
   ]
  },
  {
   "cell_type": "code",
   "execution_count": 9,
   "id": "203badaf",
   "metadata": {},
   "outputs": [],
   "source": [
    "txt=\" I am very excited\""
   ]
  },
  {
   "cell_type": "code",
   "execution_count": 10,
   "id": "54bbef08",
   "metadata": {},
   "outputs": [
    {
     "data": {
      "text/plain": [
       "['I', 'am', 'very', 'excited']"
      ]
     },
     "execution_count": 10,
     "metadata": {},
     "output_type": "execute_result"
    }
   ],
   "source": [
    "txt.split()"
   ]
  },
  {
   "cell_type": "markdown",
   "id": "ff5f5db7",
   "metadata": {},
   "source": [
    "# Sentences tokenization"
   ]
  },
  {
   "cell_type": "code",
   "execution_count": 12,
   "id": "7f9b1987",
   "metadata": {},
   "outputs": [],
   "source": [
    "txt2='I am from shikarpur. I currently study in mehran universty. Be a game changer'"
   ]
  },
  {
   "cell_type": "code",
   "execution_count": 13,
   "id": "e0047997",
   "metadata": {},
   "outputs": [
    {
     "data": {
      "text/plain": [
       "['I am from shikarpur',\n",
       " ' I currently study in mehran universty',\n",
       " ' Be a game changer']"
      ]
     },
     "execution_count": 13,
     "metadata": {},
     "output_type": "execute_result"
    }
   ],
   "source": [
    "txt2.split('.')"
   ]
  },
  {
   "cell_type": "markdown",
   "id": "39874cc2",
   "metadata": {},
   "source": [
    "# Problem with split"
   ]
  },
  {
   "cell_type": "code",
   "execution_count": 15,
   "id": "70a0e461",
   "metadata": {},
   "outputs": [],
   "source": [
    "txt3='I am pakistani!'"
   ]
  },
  {
   "cell_type": "code",
   "execution_count": 16,
   "id": "0b730fa0",
   "metadata": {},
   "outputs": [
    {
     "data": {
      "text/plain": [
       "['I am pakistani!']"
      ]
     },
     "execution_count": 16,
     "metadata": {},
     "output_type": "execute_result"
    }
   ],
   "source": [
    "txt3.split('.')"
   ]
  },
  {
   "cell_type": "code",
   "execution_count": 17,
   "id": "704aaea0",
   "metadata": {},
   "outputs": [],
   "source": [
    "txt4='what is your goal? describe someting about your goal'"
   ]
  },
  {
   "cell_type": "code",
   "execution_count": 18,
   "id": "7432458b",
   "metadata": {},
   "outputs": [
    {
     "data": {
      "text/plain": [
       "['what is your goal? describe someting about your goal']"
      ]
     },
     "execution_count": 18,
     "metadata": {},
     "output_type": "execute_result"
    }
   ],
   "source": [
    "txt4.split('.')"
   ]
  },
  {
   "cell_type": "code",
   "execution_count": null,
   "id": "403117ad",
   "metadata": {},
   "outputs": [],
   "source": []
  },
  {
   "cell_type": "markdown",
   "id": "98488d64",
   "metadata": {},
   "source": [
    "# Tokenization using RegularExpression"
   ]
  },
  {
   "cell_type": "code",
   "execution_count": 20,
   "id": "a2423954",
   "metadata": {},
   "outputs": [],
   "source": [
    "import re"
   ]
  },
  {
   "cell_type": "code",
   "execution_count": 21,
   "id": "5e2cfe66",
   "metadata": {},
   "outputs": [],
   "source": [
    "text='I am pakistani!'\n",
    "token=re.findall(\"[\\w]+\",text)"
   ]
  },
  {
   "cell_type": "code",
   "execution_count": 22,
   "id": "e06b8096",
   "metadata": {},
   "outputs": [
    {
     "data": {
      "text/plain": [
       "['I', 'am', 'pakistani']"
      ]
     },
     "execution_count": 22,
     "metadata": {},
     "output_type": "execute_result"
    }
   ],
   "source": [
    "token"
   ]
  },
  {
   "cell_type": "markdown",
   "id": "5d580149",
   "metadata": {},
   "source": [
    "# Tokenization using NLTK library"
   ]
  },
  {
   "cell_type": "code",
   "execution_count": 11,
   "id": "e716ca8e",
   "metadata": {},
   "outputs": [],
   "source": [
    "from nltk.tokenize import word_tokenize,sent_tokenize"
   ]
  },
  {
   "cell_type": "markdown",
   "id": "f77a2e53",
   "metadata": {},
   "source": [
    "# Word tokenize"
   ]
  },
  {
   "cell_type": "code",
   "execution_count": 12,
   "id": "62115fb1",
   "metadata": {},
   "outputs": [
    {
     "data": {
      "text/plain": [
       "['I',\n",
       " 'am',\n",
       " 'pakistani',\n",
       " '!',\n",
       " '.from',\n",
       " 'sindh',\n",
       " 'jamshoro.Be',\n",
       " 'a',\n",
       " 'game',\n",
       " 'changer',\n",
       " '.']"
      ]
     },
     "execution_count": 12,
     "metadata": {},
     "output_type": "execute_result"
    }
   ],
   "source": [
    "text1='I am pakistani!.from sindh jamshoro.Be a game changer.'\n",
    "word_tokenize(text1)"
   ]
  },
  {
   "cell_type": "markdown",
   "id": "0e0ab83a",
   "metadata": {},
   "source": [
    "# Sentence tokenize"
   ]
  },
  {
   "cell_type": "code",
   "execution_count": 14,
   "id": "4f5f7d68",
   "metadata": {},
   "outputs": [],
   "source": [
    "txt2='I am pakistani!.from sindh jamshoro.Be a game changer.'"
   ]
  },
  {
   "cell_type": "code",
   "execution_count": 15,
   "id": "b512fe1b",
   "metadata": {},
   "outputs": [
    {
     "data": {
      "text/plain": [
       "['I am pakistani!.from sindh jamshoro.Be a game changer.']"
      ]
     },
     "execution_count": 15,
     "metadata": {},
     "output_type": "execute_result"
    }
   ],
   "source": [
    "sent_tokenize(txt2)"
   ]
  },
  {
   "cell_type": "code",
   "execution_count": null,
   "id": "9d062e77",
   "metadata": {},
   "outputs": [],
   "source": []
  },
  {
   "cell_type": "code",
   "execution_count": null,
   "id": "86cc88a5",
   "metadata": {},
   "outputs": [],
   "source": []
  },
  {
   "cell_type": "code",
   "execution_count": null,
   "id": "7cc40bb6",
   "metadata": {},
   "outputs": [],
   "source": []
  }
 ],
 "metadata": {
  "kernelspec": {
   "display_name": "Python 3 (ipykernel)",
   "language": "python",
   "name": "python3"
  },
  "language_info": {
   "codemirror_mode": {
    "name": "ipython",
    "version": 3
   },
   "file_extension": ".py",
   "mimetype": "text/x-python",
   "name": "python",
   "nbconvert_exporter": "python",
   "pygments_lexer": "ipython3",
   "version": "3.9.13"
  }
 },
 "nbformat": 4,
 "nbformat_minor": 5
}
