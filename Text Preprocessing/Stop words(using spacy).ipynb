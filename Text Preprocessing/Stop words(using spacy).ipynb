{
 "cells": [
  {
   "cell_type": "code",
   "execution_count": 5,
   "id": "e40f406f",
   "metadata": {},
   "outputs": [],
   "source": [
    "import spacy \n",
    "from spacy.lang.en.stop_words import STOP_WORDS"
   ]
  },
  {
   "cell_type": "code",
   "execution_count": null,
   "id": "d70d8107",
   "metadata": {},
   "outputs": [],
   "source": []
  },
  {
   "cell_type": "code",
   "execution_count": 8,
   "id": "adf5d8d5",
   "metadata": {},
   "outputs": [
    {
     "data": {
      "text/plain": [
       "326"
      ]
     },
     "execution_count": 8,
     "metadata": {},
     "output_type": "execute_result"
    }
   ],
   "source": [
    "len(STOP_WORDS)"
   ]
  },
  {
   "cell_type": "code",
   "execution_count": 10,
   "id": "67d43d8d",
   "metadata": {},
   "outputs": [],
   "source": [
    "nlp=spacy.load('en_core_web_sm')"
   ]
  },
  {
   "cell_type": "code",
   "execution_count": 11,
   "id": "4fcc441d",
   "metadata": {},
   "outputs": [],
   "source": [
    "doc=nlp(\" I hope you are okay\")"
   ]
  },
  {
   "cell_type": "code",
   "execution_count": 14,
   "id": "4527fa15",
   "metadata": {},
   "outputs": [
    {
     "name": "stdout",
     "output_type": "stream",
     "text": [
      " \n",
      "hope\n",
      "okay\n"
     ]
    }
   ],
   "source": [
    "for token in doc:\n",
    "    if not token.is_stop:\n",
    "        print(token)\n",
    "        "
   ]
  },
  {
   "cell_type": "markdown",
   "id": "6bbcb39b",
   "metadata": {},
   "source": [
    "# Preprocessing"
   ]
  },
  {
   "cell_type": "code",
   "execution_count": 16,
   "id": "3d63044d",
   "metadata": {},
   "outputs": [],
   "source": [
    "def preprocessing(text):\n",
    "    doc=nlp(text)\n",
    "    no_stop_word=[token.text for token in doc if not token.is_stop]\n",
    "    return no_stop_word"
   ]
  },
  {
   "cell_type": "code",
   "execution_count": 17,
   "id": "ef30a091",
   "metadata": {},
   "outputs": [
    {
     "data": {
      "text/plain": [
       "['hope', 'understand']"
      ]
     },
     "execution_count": 17,
     "metadata": {},
     "output_type": "execute_result"
    }
   ],
   "source": [
    "preprocessing(\"I hope you understand\")"
   ]
  },
  {
   "cell_type": "code",
   "execution_count": null,
   "id": "f9cd6185",
   "metadata": {},
   "outputs": [],
   "source": []
  }
 ],
 "metadata": {
  "kernelspec": {
   "display_name": "Python 3 (ipykernel)",
   "language": "python",
   "name": "python3"
  },
  "language_info": {
   "codemirror_mode": {
    "name": "ipython",
    "version": 3
   },
   "file_extension": ".py",
   "mimetype": "text/x-python",
   "name": "python",
   "nbconvert_exporter": "python",
   "pygments_lexer": "ipython3",
   "version": "3.9.13"
  }
 },
 "nbformat": 4,
 "nbformat_minor": 5
}
