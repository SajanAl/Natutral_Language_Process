{
 "cells": [
  {
   "cell_type": "code",
   "execution_count": 1,
   "id": "4ad475e8",
   "metadata": {},
   "outputs": [],
   "source": [
    "import pandas as pd\n",
    "import re"
   ]
  },
  {
   "cell_type": "code",
   "execution_count": 2,
   "id": "61024d8d",
   "metadata": {},
   "outputs": [],
   "source": [
    "a='''A right-hand, top-order batsman known for his discipline and level-headed attitude, Babar Azam laid claim to a long-term spot in Pakistan's batting line-up with a strong performance in 2016, making three consecutive ODI hundreds against West Indies in the UAE, and a 90 in his third Test, in Hamilton. He was 22 years old at the time.\n",
    "\n",
    "Born in Lahore and a first cousin to the Akmal brothers, Azam made his way up through age-group cricket. His journey began at an under-15 world championship in 2008 and he played two under-19 World Cups in 2010 and 2012, where he was Pakistan's top run-scorer.\n",
    "'''"
   ]
  },
  {
   "cell_type": "code",
   "execution_count": 3,
   "id": "489428ab",
   "metadata": {},
   "outputs": [
    {
     "data": {
      "text/plain": [
       "\"A right-hand, top-order batsman known for his discipline and level-headed attitude, Babar Azam laid claim to a long-term spot in Pakistan's batting line-up with a strong performance in 2016, making three consecutive ODI hundreds against West Indies in the UAE, and a 90 in his third Test, in Hamilton. He was 22 years old at the time.\\n\\nBorn in Lahore and a first cousin to the Akmal brothers, Azam made his way up through age-group cricket. His journey began at an under-15 world championship in 2008 and he played two under-19 World Cups in 2010 and 2012, where he was Pakistan's top run-scorer.\\n\""
      ]
     },
     "execution_count": 3,
     "metadata": {},
     "output_type": "execute_result"
    }
   ],
   "source": [
    "a"
   ]
  },
  {
   "cell_type": "markdown",
   "id": "3bc3f408",
   "metadata": {},
   "source": [
    "# Taking any digit"
   ]
  },
  {
   "cell_type": "code",
   "execution_count": 4,
   "id": "1c4e0ac4",
   "metadata": {},
   "outputs": [],
   "source": [
    "pattern='\\d{4}'"
   ]
  },
  {
   "cell_type": "code",
   "execution_count": 5,
   "id": "9a0f70dc",
   "metadata": {},
   "outputs": [
    {
     "data": {
      "text/plain": [
       "['2016', '2008', '2010', '2012']"
      ]
     },
     "execution_count": 5,
     "metadata": {},
     "output_type": "execute_result"
    }
   ],
   "source": [
    "re.findall(pattern,a)"
   ]
  },
  {
   "cell_type": "markdown",
   "id": "2ce2d7ab",
   "metadata": {},
   "source": [
    "# Taking digit in paranthesis"
   ]
  },
  {
   "cell_type": "code",
   "execution_count": 9,
   "id": "2d11a8b9",
   "metadata": {},
   "outputs": [],
   "source": [
    "a2='sajan cell (034330251)-76'"
   ]
  },
  {
   "cell_type": "code",
   "execution_count": 12,
   "id": "54b7280f",
   "metadata": {},
   "outputs": [
    {
     "data": {
      "text/plain": [
       "['(034330251)-76']"
      ]
     },
     "execution_count": 12,
     "metadata": {},
     "output_type": "execute_result"
    }
   ],
   "source": [
    "pattern2='\\(\\d{9}\\)-\\d{2}'\n",
    "re.findall(pattern2,a2)"
   ]
  },
  {
   "cell_type": "markdown",
   "id": "b3e25d00",
   "metadata": {},
   "source": [
    "# Now taking emial"
   ]
  },
  {
   "cell_type": "code",
   "execution_count": 13,
   "id": "ba19d976",
   "metadata": {},
   "outputs": [],
   "source": [
    " a3='this is my email address fomawaw614@meogl.com'"
   ]
  },
  {
   "cell_type": "code",
   "execution_count": 14,
   "id": "9a59f4e6",
   "metadata": {},
   "outputs": [],
   "source": [
    "pattern3='[a-z0-9A-Z]*@[a-z.]*'"
   ]
  },
  {
   "cell_type": "code",
   "execution_count": 15,
   "id": "553f818d",
   "metadata": {},
   "outputs": [
    {
     "data": {
      "text/plain": [
       "['fomawaw614@meogl.com']"
      ]
     },
     "execution_count": 15,
     "metadata": {},
     "output_type": "execute_result"
    }
   ],
   "source": [
    "re.findall(pattern3,a3)"
   ]
  },
  {
   "cell_type": "code",
   "execution_count": 1,
   "id": "c262b25d",
   "metadata": {},
   "outputs": [],
   "source": [
    "a4='I am having issue of my order # 1234567'"
   ]
  },
  {
   "cell_type": "code",
   "execution_count": 2,
   "id": "1e8a0c79",
   "metadata": {},
   "outputs": [],
   "source": [
    "pattern='order[^\\d]*(\\d*)'"
   ]
  },
  {
   "cell_type": "code",
   "execution_count": 4,
   "id": "fdc32eb0",
   "metadata": {},
   "outputs": [
    {
     "data": {
      "text/plain": [
       "['1234567']"
      ]
     },
     "execution_count": 4,
     "metadata": {},
     "output_type": "execute_result"
    }
   ],
   "source": [
    "re.findall(pattern,a4)"
   ]
  },
  {
   "cell_type": "code",
   "execution_count": null,
   "id": "3a59fb2a",
   "metadata": {},
   "outputs": [],
   "source": []
  },
  {
   "cell_type": "code",
   "execution_count": 2,
   "id": "4e9728c9",
   "metadata": {},
   "outputs": [],
   "source": [
    "muskinfo='''Born\tElon Reeve Musk\n",
    "June 28, 1971 (age 52)\n",
    "Pretoria, Transvaal, South Africa\n",
    "Education\tUniversity of Pennsylvania (BA, BS)\n",
    "Title\t\n",
    "Founder, CEO, and chief engineer of SpaceX\n",
    "CEO and product architect of Tesla, Inc.\n",
    "Owner and CTO of Twitter\n",
    "President of the Musk Foundation\n",
    "Founder of the Boring Company, X Corp., and xAI\n",
    "Co-founder of Neuralink, OpenAI, Zip2, and X.com (part of PayPal)\n",
    "Spouses\t\n",
    "Justine Wilson\n",
    "​\n",
    "​(m. 2000; div. 2008)​\n",
    "Talulah Riley\n",
    "​\n",
    "​(m. 2010; div. 2012)​\n",
    "​\n",
    "​(m. 2013; div. 2016)​\n",
    "Partner\tGrimes (2018–2021)[1]\n",
    "Children\t10[a][3]\n",
    "Parents\t\n",
    "Errol Musk (father)\n",
    "Maye Musk (mother)\n",
    "Family\tMusk family\n",
    "Signature'''"
   ]
  },
  {
   "cell_type": "markdown",
   "id": "ecca7a17",
   "metadata": {},
   "source": [
    "# Taking age of the musk"
   ]
  },
  {
   "cell_type": "code",
   "execution_count": 47,
   "id": "f5e6e1d2",
   "metadata": {},
   "outputs": [],
   "source": [
    "pattern0='age (\\d+)'"
   ]
  },
  {
   "cell_type": "code",
   "execution_count": 48,
   "id": "890733e5",
   "metadata": {},
   "outputs": [
    {
     "data": {
      "text/plain": [
       "['52']"
      ]
     },
     "execution_count": 48,
     "metadata": {},
     "output_type": "execute_result"
    }
   ],
   "source": [
    "re.findall(pattern0,muskinfo)"
   ]
  },
  {
   "cell_type": "markdown",
   "id": "52f8abf2",
   "metadata": {},
   "source": [
    "# Taking name of  musk"
   ]
  },
  {
   "cell_type": "code",
   "execution_count": 57,
   "id": "8982dfd1",
   "metadata": {},
   "outputs": [],
   "source": [
    "name='Born(.*)\\n'"
   ]
  },
  {
   "cell_type": "code",
   "execution_count": 58,
   "id": "a849af36",
   "metadata": {},
   "outputs": [],
   "source": [
    "match=re.findall(name, muskinfo)"
   ]
  },
  {
   "cell_type": "code",
   "execution_count": 60,
   "id": "f7a798e5",
   "metadata": {},
   "outputs": [
    {
     "data": {
      "text/plain": [
       "'Elon Reeve Musk'"
      ]
     },
     "execution_count": 60,
     "metadata": {},
     "output_type": "execute_result"
    }
   ],
   "source": [
    "match[0].strip()"
   ]
  },
  {
   "cell_type": "markdown",
   "id": "2490b02d",
   "metadata": {},
   "source": [
    "# Get birthdate of musk "
   ]
  },
  {
   "cell_type": "code",
   "execution_count": 5,
   "id": "ea131ddb",
   "metadata": {},
   "outputs": [],
   "source": [
    "birthdate='Born.*\\n(.*)\\(age'"
   ]
  },
  {
   "cell_type": "code",
   "execution_count": 7,
   "id": "90ce3bd1",
   "metadata": {},
   "outputs": [
    {
     "data": {
      "text/plain": [
       "['June 28, 1971 ']"
      ]
     },
     "execution_count": 7,
     "metadata": {},
     "output_type": "execute_result"
    }
   ],
   "source": [
    "re.findall(birthdate,muskinfo)"
   ]
  },
  {
   "cell_type": "markdown",
   "id": "175b4ee0",
   "metadata": {},
   "source": [
    "# Get Birthplace of musk"
   ]
  },
  {
   "cell_type": "code",
   "execution_count": 8,
   "id": "942344e8",
   "metadata": {},
   "outputs": [],
   "source": [
    "\n",
    "birthplace='\\(age.*\\n(.*)'\n"
   ]
  },
  {
   "cell_type": "code",
   "execution_count": 9,
   "id": "e17a251a",
   "metadata": {},
   "outputs": [
    {
     "data": {
      "text/plain": [
       "['Pretoria, Transvaal, South Africa']"
      ]
     },
     "execution_count": 9,
     "metadata": {},
     "output_type": "execute_result"
    }
   ],
   "source": [
    "re.findall(birthplace,muskinfo)"
   ]
  },
  {
   "cell_type": "markdown",
   "id": "1b25c0e9",
   "metadata": {},
   "source": [
    "# Make function "
   ]
  },
  {
   "cell_type": "code",
   "execution_count": 5,
   "id": "f4ac9fdb",
   "metadata": {},
   "outputs": [],
   "source": [
    "def get_pattern_match(pattern, text):\n",
    "    matchs=re.findall(pattern, text)\n",
    "    if matchs:\n",
    "        return matchs[0]"
   ]
  },
  {
   "cell_type": "code",
   "execution_count": 6,
   "id": "ca2213b1",
   "metadata": {},
   "outputs": [
    {
     "data": {
      "text/plain": [
       "'Pretoria, Transvaal, South Africa'"
      ]
     },
     "execution_count": 6,
     "metadata": {},
     "output_type": "execute_result"
    }
   ],
   "source": [
    "get_pattern_match('\\(age.*\\n(.*)',muskinfo)"
   ]
  },
  {
   "cell_type": "code",
   "execution_count": null,
   "id": "e36cdefe",
   "metadata": {},
   "outputs": [],
   "source": []
  },
  {
   "cell_type": "markdown",
   "id": "d8ba1810",
   "metadata": {},
   "source": [
    "# Make another function get all information of musk"
   ]
  },
  {
   "cell_type": "code",
   "execution_count": 17,
   "id": "13f349c6",
   "metadata": {},
   "outputs": [],
   "source": [
    "information='''Born\tMukesh Dhirubhai Ambani\n",
    "19 April 1957 (age 66)\n",
    "Aden, Colony of Aden\n",
    "(present-day Yemen)[1][2]\n",
    "Nationality\tIndian\n",
    "Alma mater\t\n",
    "St. Xavier's College, Mumbai\n",
    "Institute of Chemical Technology (B.E.)\n",
    "Occupation(s)\tChairman and MD, Reliance Industries\n",
    "Spouse\tNita Ambani ​(m. 1985)​[3]\n",
    "Children\t3\n",
    "Parents\t\n",
    "Dhirubhai Ambani (father)\n",
    "Kokilaben Ambani (mother)\n",
    "Relatives\tAnil Ambani (brother)\n",
    "Tina Ambani (sister-in-law)\n",
    "'''"
   ]
  },
  {
   "cell_type": "code",
   "execution_count": 18,
   "id": "281da3a4",
   "metadata": {},
   "outputs": [],
   "source": [
    "def get_personal_information(information):\n",
    "    age=get_pattern_match('age (\\d+)',information)\n",
    "    full_name=get_pattern_match('Born(.*)',information)\n",
    "    birthdate=get_pattern_match('Born.*\\n(.*)\\(',information)\n",
    "    birthplace=get_pattern_match('\\(age.*\\n(.*)',information)\n",
    "    return {\n",
    "        'age':int(age),\n",
    "        'name':full_name.strip(),\n",
    "        'birth_date':birthdate.strip(),\n",
    "        'birth_place':birthplace.strip()\n",
    "    }"
   ]
  },
  {
   "cell_type": "code",
   "execution_count": 19,
   "id": "654c6ff7",
   "metadata": {},
   "outputs": [
    {
     "data": {
      "text/plain": [
       "{'age': 66,\n",
       " 'name': 'Mukesh Dhirubhai Ambani',\n",
       " 'birth_date': '19 April 1957',\n",
       " 'birth_place': 'Aden, Colony of Aden'}"
      ]
     },
     "execution_count": 19,
     "metadata": {},
     "output_type": "execute_result"
    }
   ],
   "source": [
    "get_personal_information(information)"
   ]
  },
  {
   "cell_type": "code",
   "execution_count": null,
   "id": "70b20609",
   "metadata": {},
   "outputs": [],
   "source": []
  }
 ],
 "metadata": {
  "kernelspec": {
   "display_name": "Python 3 (ipykernel)",
   "language": "python",
   "name": "python3"
  },
  "language_info": {
   "codemirror_mode": {
    "name": "ipython",
    "version": 3
   },
   "file_extension": ".py",
   "mimetype": "text/x-python",
   "name": "python",
   "nbconvert_exporter": "python",
   "pygments_lexer": "ipython3",
   "version": "3.9.13"
  }
 },
 "nbformat": 4,
 "nbformat_minor": 5
}
