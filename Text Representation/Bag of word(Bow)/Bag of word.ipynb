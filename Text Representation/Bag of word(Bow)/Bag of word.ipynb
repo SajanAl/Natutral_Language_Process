{
 "cells": [
  {
   "cell_type": "code",
   "execution_count": 69,
   "id": "68b51efc",
   "metadata": {},
   "outputs": [],
   "source": [
    "import pandas as pd\n",
    "import numpy as np\n",
    "from sklearn.model_selection import train_test_split\n",
    "from sklearn.feature_extraction.text import CountVectorizer\n",
    "from sklearn.naive_bayes import MultinomialNB\n",
    "from sklearn.metrics import classification_report"
   ]
  },
  {
   "cell_type": "code",
   "execution_count": 2,
   "id": "56553985",
   "metadata": {},
   "outputs": [],
   "source": [
    "df=pd.read_csv('D:\\Data\\spam.csv')"
   ]
  },
  {
   "cell_type": "code",
   "execution_count": 3,
   "id": "d891f665",
   "metadata": {},
   "outputs": [
    {
     "data": {
      "text/html": [
       "<div>\n",
       "<style scoped>\n",
       "    .dataframe tbody tr th:only-of-type {\n",
       "        vertical-align: middle;\n",
       "    }\n",
       "\n",
       "    .dataframe tbody tr th {\n",
       "        vertical-align: top;\n",
       "    }\n",
       "\n",
       "    .dataframe thead th {\n",
       "        text-align: right;\n",
       "    }\n",
       "</style>\n",
       "<table border=\"1\" class=\"dataframe\">\n",
       "  <thead>\n",
       "    <tr style=\"text-align: right;\">\n",
       "      <th></th>\n",
       "      <th>Category</th>\n",
       "      <th>Message</th>\n",
       "    </tr>\n",
       "  </thead>\n",
       "  <tbody>\n",
       "    <tr>\n",
       "      <th>0</th>\n",
       "      <td>ham</td>\n",
       "      <td>Go until jurong point, crazy.. Available only ...</td>\n",
       "    </tr>\n",
       "    <tr>\n",
       "      <th>1</th>\n",
       "      <td>ham</td>\n",
       "      <td>Ok lar... Joking wif u oni...</td>\n",
       "    </tr>\n",
       "    <tr>\n",
       "      <th>2</th>\n",
       "      <td>spam</td>\n",
       "      <td>Free entry in 2 a wkly comp to win FA Cup fina...</td>\n",
       "    </tr>\n",
       "    <tr>\n",
       "      <th>3</th>\n",
       "      <td>ham</td>\n",
       "      <td>U dun say so early hor... U c already then say...</td>\n",
       "    </tr>\n",
       "    <tr>\n",
       "      <th>4</th>\n",
       "      <td>ham</td>\n",
       "      <td>Nah I don't think he goes to usf, he lives aro...</td>\n",
       "    </tr>\n",
       "  </tbody>\n",
       "</table>\n",
       "</div>"
      ],
      "text/plain": [
       "  Category                                            Message\n",
       "0      ham  Go until jurong point, crazy.. Available only ...\n",
       "1      ham                      Ok lar... Joking wif u oni...\n",
       "2     spam  Free entry in 2 a wkly comp to win FA Cup fina...\n",
       "3      ham  U dun say so early hor... U c already then say...\n",
       "4      ham  Nah I don't think he goes to usf, he lives aro..."
      ]
     },
     "execution_count": 3,
     "metadata": {},
     "output_type": "execute_result"
    }
   ],
   "source": [
    "df.head(5)"
   ]
  },
  {
   "cell_type": "code",
   "execution_count": 4,
   "id": "8d1d8fc7",
   "metadata": {},
   "outputs": [
    {
     "data": {
      "text/plain": [
       "\"Free entry in 2 a wkly comp to win FA Cup final tkts 21st May 2005. Text FA to 87121 to receive entry question(std txt rate)T&C's apply 08452810075over18's\""
      ]
     },
     "execution_count": 4,
     "metadata": {},
     "output_type": "execute_result"
    }
   ],
   "source": [
    "df.Message[2]"
   ]
  },
  {
   "cell_type": "code",
   "execution_count": 5,
   "id": "d50a243d",
   "metadata": {},
   "outputs": [
    {
     "data": {
      "text/html": [
       "<div>\n",
       "<style scoped>\n",
       "    .dataframe tbody tr th:only-of-type {\n",
       "        vertical-align: middle;\n",
       "    }\n",
       "\n",
       "    .dataframe tbody tr th {\n",
       "        vertical-align: top;\n",
       "    }\n",
       "\n",
       "    .dataframe thead th {\n",
       "        text-align: right;\n",
       "    }\n",
       "</style>\n",
       "<table border=\"1\" class=\"dataframe\">\n",
       "  <thead>\n",
       "    <tr style=\"text-align: right;\">\n",
       "      <th></th>\n",
       "      <th>Category</th>\n",
       "      <th>Message</th>\n",
       "    </tr>\n",
       "  </thead>\n",
       "  <tbody>\n",
       "    <tr>\n",
       "      <th>count</th>\n",
       "      <td>5572</td>\n",
       "      <td>5572</td>\n",
       "    </tr>\n",
       "    <tr>\n",
       "      <th>unique</th>\n",
       "      <td>2</td>\n",
       "      <td>5157</td>\n",
       "    </tr>\n",
       "    <tr>\n",
       "      <th>top</th>\n",
       "      <td>ham</td>\n",
       "      <td>Sorry, I'll call later</td>\n",
       "    </tr>\n",
       "    <tr>\n",
       "      <th>freq</th>\n",
       "      <td>4825</td>\n",
       "      <td>30</td>\n",
       "    </tr>\n",
       "  </tbody>\n",
       "</table>\n",
       "</div>"
      ],
      "text/plain": [
       "       Category                 Message\n",
       "count      5572                    5572\n",
       "unique        2                    5157\n",
       "top         ham  Sorry, I'll call later\n",
       "freq       4825                      30"
      ]
     },
     "execution_count": 5,
     "metadata": {},
     "output_type": "execute_result"
    }
   ],
   "source": [
    "df.describe()"
   ]
  },
  {
   "cell_type": "code",
   "execution_count": 6,
   "id": "3e81986b",
   "metadata": {},
   "outputs": [
    {
     "data": {
      "text/plain": [
       "ham     4825\n",
       "spam     747\n",
       "Name: Category, dtype: int64"
      ]
     },
     "execution_count": 6,
     "metadata": {},
     "output_type": "execute_result"
    }
   ],
   "source": [
    "df.Category.value_counts()"
   ]
  },
  {
   "cell_type": "markdown",
   "id": "9c29ca63",
   "metadata": {},
   "source": [
    "# Create column using Category column and give value 0,1"
   ]
  },
  {
   "cell_type": "code",
   "execution_count": 7,
   "id": "231a54ee",
   "metadata": {},
   "outputs": [],
   "source": [
    "df['spam']=df['Category'].apply(lambda x:1 if x=='spam' else 0)"
   ]
  },
  {
   "cell_type": "code",
   "execution_count": 8,
   "id": "4b8366df",
   "metadata": {},
   "outputs": [
    {
     "data": {
      "text/html": [
       "<div>\n",
       "<style scoped>\n",
       "    .dataframe tbody tr th:only-of-type {\n",
       "        vertical-align: middle;\n",
       "    }\n",
       "\n",
       "    .dataframe tbody tr th {\n",
       "        vertical-align: top;\n",
       "    }\n",
       "\n",
       "    .dataframe thead th {\n",
       "        text-align: right;\n",
       "    }\n",
       "</style>\n",
       "<table border=\"1\" class=\"dataframe\">\n",
       "  <thead>\n",
       "    <tr style=\"text-align: right;\">\n",
       "      <th></th>\n",
       "      <th>Category</th>\n",
       "      <th>Message</th>\n",
       "      <th>spam</th>\n",
       "    </tr>\n",
       "  </thead>\n",
       "  <tbody>\n",
       "    <tr>\n",
       "      <th>0</th>\n",
       "      <td>ham</td>\n",
       "      <td>Go until jurong point, crazy.. Available only ...</td>\n",
       "      <td>0</td>\n",
       "    </tr>\n",
       "    <tr>\n",
       "      <th>1</th>\n",
       "      <td>ham</td>\n",
       "      <td>Ok lar... Joking wif u oni...</td>\n",
       "      <td>0</td>\n",
       "    </tr>\n",
       "    <tr>\n",
       "      <th>2</th>\n",
       "      <td>spam</td>\n",
       "      <td>Free entry in 2 a wkly comp to win FA Cup fina...</td>\n",
       "      <td>1</td>\n",
       "    </tr>\n",
       "    <tr>\n",
       "      <th>3</th>\n",
       "      <td>ham</td>\n",
       "      <td>U dun say so early hor... U c already then say...</td>\n",
       "      <td>0</td>\n",
       "    </tr>\n",
       "    <tr>\n",
       "      <th>4</th>\n",
       "      <td>ham</td>\n",
       "      <td>Nah I don't think he goes to usf, he lives aro...</td>\n",
       "      <td>0</td>\n",
       "    </tr>\n",
       "    <tr>\n",
       "      <th>...</th>\n",
       "      <td>...</td>\n",
       "      <td>...</td>\n",
       "      <td>...</td>\n",
       "    </tr>\n",
       "    <tr>\n",
       "      <th>5567</th>\n",
       "      <td>spam</td>\n",
       "      <td>This is the 2nd time we have tried 2 contact u...</td>\n",
       "      <td>1</td>\n",
       "    </tr>\n",
       "    <tr>\n",
       "      <th>5568</th>\n",
       "      <td>ham</td>\n",
       "      <td>Will ü b going to esplanade fr home?</td>\n",
       "      <td>0</td>\n",
       "    </tr>\n",
       "    <tr>\n",
       "      <th>5569</th>\n",
       "      <td>ham</td>\n",
       "      <td>Pity, * was in mood for that. So...any other s...</td>\n",
       "      <td>0</td>\n",
       "    </tr>\n",
       "    <tr>\n",
       "      <th>5570</th>\n",
       "      <td>ham</td>\n",
       "      <td>The guy did some bitching but I acted like i'd...</td>\n",
       "      <td>0</td>\n",
       "    </tr>\n",
       "    <tr>\n",
       "      <th>5571</th>\n",
       "      <td>ham</td>\n",
       "      <td>Rofl. Its true to its name</td>\n",
       "      <td>0</td>\n",
       "    </tr>\n",
       "  </tbody>\n",
       "</table>\n",
       "<p>5572 rows × 3 columns</p>\n",
       "</div>"
      ],
      "text/plain": [
       "     Category                                            Message  spam\n",
       "0         ham  Go until jurong point, crazy.. Available only ...     0\n",
       "1         ham                      Ok lar... Joking wif u oni...     0\n",
       "2        spam  Free entry in 2 a wkly comp to win FA Cup fina...     1\n",
       "3         ham  U dun say so early hor... U c already then say...     0\n",
       "4         ham  Nah I don't think he goes to usf, he lives aro...     0\n",
       "...       ...                                                ...   ...\n",
       "5567     spam  This is the 2nd time we have tried 2 contact u...     1\n",
       "5568      ham               Will ü b going to esplanade fr home?     0\n",
       "5569      ham  Pity, * was in mood for that. So...any other s...     0\n",
       "5570      ham  The guy did some bitching but I acted like i'd...     0\n",
       "5571      ham                         Rofl. Its true to its name     0\n",
       "\n",
       "[5572 rows x 3 columns]"
      ]
     },
     "execution_count": 8,
     "metadata": {},
     "output_type": "execute_result"
    }
   ],
   "source": [
    "df"
   ]
  },
  {
   "cell_type": "code",
   "execution_count": 9,
   "id": "30811712",
   "metadata": {},
   "outputs": [],
   "source": [
    "X_train,X_test,y_train,y_test=train_test_split(df.Message,df.spam,test_size=0.2)"
   ]
  },
  {
   "cell_type": "code",
   "execution_count": 10,
   "id": "a2285a10",
   "metadata": {},
   "outputs": [
    {
     "data": {
      "text/plain": [
       "(4457,)"
      ]
     },
     "execution_count": 10,
     "metadata": {},
     "output_type": "execute_result"
    }
   ],
   "source": [
    "X_train.shape"
   ]
  },
  {
   "cell_type": "code",
   "execution_count": 11,
   "id": "d1829e31",
   "metadata": {},
   "outputs": [
    {
     "data": {
      "text/plain": [
       "(4457,)"
      ]
     },
     "execution_count": 11,
     "metadata": {},
     "output_type": "execute_result"
    }
   ],
   "source": [
    "y_train.shape"
   ]
  },
  {
   "cell_type": "code",
   "execution_count": 12,
   "id": "cf7233da",
   "metadata": {},
   "outputs": [
    {
     "data": {
      "text/plain": [
       "(1115,)"
      ]
     },
     "execution_count": 12,
     "metadata": {},
     "output_type": "execute_result"
    }
   ],
   "source": [
    "X_test.shape"
   ]
  },
  {
   "cell_type": "code",
   "execution_count": 13,
   "id": "9e757174",
   "metadata": {},
   "outputs": [
    {
     "data": {
      "text/plain": [
       "(1115,)"
      ]
     },
     "execution_count": 13,
     "metadata": {},
     "output_type": "execute_result"
    }
   ],
   "source": [
    "y_test.shape"
   ]
  },
  {
   "cell_type": "code",
   "execution_count": 14,
   "id": "0f647ce4",
   "metadata": {},
   "outputs": [
    {
     "data": {
      "text/plain": [
       "pandas.core.series.Series"
      ]
     },
     "execution_count": 14,
     "metadata": {},
     "output_type": "execute_result"
    }
   ],
   "source": [
    "type(X_train)"
   ]
  },
  {
   "cell_type": "code",
   "execution_count": 15,
   "id": "7c4b5aba",
   "metadata": {},
   "outputs": [
    {
     "data": {
      "text/plain": [
       "466     great princess! I love giving and receiving or...\n",
       "3782    Dear friends, sorry for the late information. ...\n",
       "4848    I am in escape theatre now. . Going to watch K...\n",
       "5383    Good day to You too.Pray for me.Remove the tee...\n",
       "Name: Message, dtype: object"
      ]
     },
     "execution_count": 15,
     "metadata": {},
     "output_type": "execute_result"
    }
   ],
   "source": [
    "X_train[:4]"
   ]
  },
  {
   "cell_type": "code",
   "execution_count": 16,
   "id": "6f9b7a03",
   "metadata": {},
   "outputs": [
    {
     "data": {
      "text/plain": [
       "466     great princess! I love giving and receiving or...\n",
       "3782    Dear friends, sorry for the late information. ...\n",
       "4848    I am in escape theatre now. . Going to watch K...\n",
       "5383    Good day to You too.Pray for me.Remove the tee...\n",
       "Name: Message, dtype: object"
      ]
     },
     "execution_count": 16,
     "metadata": {},
     "output_type": "execute_result"
    }
   ],
   "source": [
    "X_train[:4]"
   ]
  },
  {
   "cell_type": "code",
   "execution_count": 17,
   "id": "3a700445",
   "metadata": {},
   "outputs": [
    {
     "data": {
      "text/plain": [
       "pandas.core.series.Series"
      ]
     },
     "execution_count": 17,
     "metadata": {},
     "output_type": "execute_result"
    }
   ],
   "source": [
    "type(y_train)"
   ]
  },
  {
   "cell_type": "code",
   "execution_count": 18,
   "id": "13f91573",
   "metadata": {},
   "outputs": [
    {
     "data": {
      "text/plain": [
       "466     0\n",
       "3782    0\n",
       "4848    0\n",
       "5383    0\n",
       "1987    0\n",
       "       ..\n",
       "440     0\n",
       "3668    0\n",
       "5282    0\n",
       "1841    0\n",
       "459     0\n",
       "Name: spam, Length: 100, dtype: int64"
      ]
     },
     "execution_count": 18,
     "metadata": {},
     "output_type": "execute_result"
    }
   ],
   "source": [
    "y_train[:100]"
   ]
  },
  {
   "cell_type": "markdown",
   "id": "f403ca45",
   "metadata": {},
   "source": [
    "# Apply Algorithm"
   ]
  },
  {
   "cell_type": "code",
   "execution_count": 19,
   "id": "93394099",
   "metadata": {},
   "outputs": [],
   "source": [
    "cv=CountVectorizer()"
   ]
  },
  {
   "cell_type": "markdown",
   "id": "23c20257",
   "metadata": {},
   "source": [
    "# Convert pandas series to array"
   ]
  },
  {
   "cell_type": "code",
   "execution_count": 21,
   "id": "f0206c34",
   "metadata": {},
   "outputs": [
    {
     "data": {
      "text/plain": [
       "array(['great princess! I love giving and receiving oral. Doggy style is my fave position. How about you? I enjoy making love  &lt;#&gt;  times per night :)',\n",
       "       'Dear friends, sorry for the late information. Today is the birthday of our loving Ar.Praveesh. for more details log on to face book and see. Its his number + &lt;#&gt; . Dont miss a delicious treat.',\n",
       "       'I am in escape theatre now. . Going to watch KAVALAN in a few minutes',\n",
       "       ...,\n",
       "       'You are everywhere dirt, on the floor, the windows, even on my shirt. And sometimes when i open my mouth, you are all that comes flowing out. I dream of my world without you, then half my chores are out too. A time of joy for me, lots of tv shows i.ll see. But i guess like all things you just must exist, like rain, hail and mist, and when my time here is done, you and i become one.',\n",
       "       \"It's not that you make me cry. It's just that when all our stuff happens on top of everything else, it pushes me over the edge. You don't underdtand how often i cry over my sorry, sorry life.\",\n",
       "       'U know we watchin at lido?'], dtype=object)"
      ]
     },
     "execution_count": 21,
     "metadata": {},
     "output_type": "execute_result"
    }
   ],
   "source": [
    "X_train.values"
   ]
  },
  {
   "cell_type": "code",
   "execution_count": 23,
   "id": "40040c47",
   "metadata": {},
   "outputs": [],
   "source": [
    "X_train_cv=cv.fit_transform(X_train.values)"
   ]
  },
  {
   "cell_type": "code",
   "execution_count": 28,
   "id": "cb150a50",
   "metadata": {},
   "outputs": [
    {
     "data": {
      "text/plain": [
       "array([0, 0, 0, ..., 0, 0, 0], dtype=int64)"
      ]
     },
     "execution_count": 28,
     "metadata": {},
     "output_type": "execute_result"
    }
   ],
   "source": [
    "X_train_cv.toarray()[2]"
   ]
  },
  {
   "cell_type": "code",
   "execution_count": 29,
   "id": "69a93dfe",
   "metadata": {},
   "outputs": [
    {
     "data": {
      "text/plain": [
       "(4457, 7776)"
      ]
     },
     "execution_count": 29,
     "metadata": {},
     "output_type": "execute_result"
    }
   ],
   "source": [
    "X_train_cv.shape"
   ]
  },
  {
   "cell_type": "code",
   "execution_count": 30,
   "id": "eebbe614",
   "metadata": {},
   "outputs": [
    {
     "data": {
      "text/plain": [
       "{'great': 3244,\n",
       " 'princess': 5409,\n",
       " 'love': 4228,\n",
       " 'giving': 3157,\n",
       " 'and': 962,\n",
       " 'receiving': 5632,\n",
       " 'oral': 4962,\n",
       " 'doggy': 2400,\n",
       " 'style': 6567,\n",
       " 'is': 3751,\n",
       " 'my': 4659,\n",
       " 'fave': 2795,\n",
       " 'position': 5321,\n",
       " 'how': 3530,\n",
       " 'about': 753,\n",
       " 'you': 7740,\n",
       " 'enjoy': 2605,\n",
       " 'making': 4330,\n",
       " 'lt': 4250,\n",
       " 'gt': 3270,\n",
       " 'times': 6926,\n",
       " 'per': 5135,\n",
       " 'night': 4764,\n",
       " 'dear': 2194,\n",
       " 'friends': 3013,\n",
       " 'sorry': 6339,\n",
       " 'for': 2947,\n",
       " 'the': 6835,\n",
       " 'late': 4026,\n",
       " 'information': 3680,\n",
       " 'today': 6964,\n",
       " 'birthday': 1362,\n",
       " 'of': 4881,\n",
       " 'our': 4991,\n",
       " 'loving': 4238,\n",
       " 'ar': 1047,\n",
       " 'praveesh': 5364,\n",
       " 'more': 4580,\n",
       " 'details': 2279,\n",
       " 'log': 4179,\n",
       " 'on': 4923,\n",
       " 'to': 6957,\n",
       " 'face': 2744,\n",
       " 'book': 1420,\n",
       " 'see': 5985,\n",
       " 'its': 3769,\n",
       " 'his': 3448,\n",
       " 'number': 4844,\n",
       " 'dont': 2417,\n",
       " 'miss': 4508,\n",
       " 'delicious': 2239,\n",
       " 'treat': 7057,\n",
       " 'am': 932,\n",
       " 'in': 3646,\n",
       " 'escape': 2642,\n",
       " 'theatre': 6838,\n",
       " 'now': 4830,\n",
       " 'going': 3184,\n",
       " 'watch': 7427,\n",
       " 'kavalan': 3906,\n",
       " 'few': 2825,\n",
       " 'minutes': 4500,\n",
       " 'good': 3196,\n",
       " 'day': 2181,\n",
       " 'too': 7000,\n",
       " 'pray': 5365,\n",
       " 'me': 4408,\n",
       " 'remove': 5700,\n",
       " 'teeth': 6771,\n",
       " 'as': 1087,\n",
       " 'painful': 5041,\n",
       " 'maintaining': 4324,\n",
       " 'other': 4983,\n",
       " 'stuff': 6560,\n",
       " 'antha': 992,\n",
       " 'num': 4843,\n",
       " 'corrct': 2011,\n",
       " 'dane': 2155,\n",
       " 'called': 1608,\n",
       " 'but': 1570,\n",
       " 'no': 4781,\n",
       " 'one': 4927,\n",
       " 'pick': 5195,\n",
       " 'up': 7209,\n",
       " 'phone': 5180,\n",
       " 'ask': 1094,\n",
       " 'both': 1439,\n",
       " 'them': 6844,\n",
       " 'already': 920,\n",
       " 'they': 6860,\n",
       " 'said': 5883,\n",
       " 'ok': 4907,\n",
       " 'll': 4163,\n",
       " 'be': 1267,\n",
       " 'there': 6853,\n",
       " 'before': 1292,\n",
       " 'not': 4816,\n",
       " 'at': 1117,\n",
       " 'home': 3482,\n",
       " 'lei': 4075,\n",
       " 'hi': 3434,\n",
       " 'technical': 6767,\n",
       " 'support': 6636,\n",
       " 'providing': 5473,\n",
       " 'assistance': 1107,\n",
       " 'us': 7242,\n",
       " 'customer': 2124,\n",
       " 'through': 6895,\n",
       " 'call': 1602,\n",
       " 'email': 2573,\n",
       " 'would': 7646,\n",
       " 'ip': 3736,\n",
       " 'address': 808,\n",
       " 'test': 6804,\n",
       " 'that': 6831,\n",
       " 'considering': 1972,\n",
       " 'computer': 1937,\n",
       " 'isn': 3757,\n",
       " 'minecraft': 4488,\n",
       " 'server': 6033,\n",
       " 'oh': 4902,\n",
       " 'watching': 7431,\n",
       " 'here': 3422,\n",
       " 'meant': 4415,\n",
       " 'an': 957,\n",
       " 'apology': 1019,\n",
       " 'from': 3029,\n",
       " 'texting': 6814,\n",
       " 'get': 3127,\n",
       " 'drugs': 2472,\n",
       " 'all': 908,\n",
       " 'we': 7447,\n",
       " 'know': 3962,\n",
       " 'th': 6819,\n",
       " 'gopalettan': 3206,\n",
       " 'are': 1053,\n",
       " 'planning': 5233,\n",
       " 'give': 3154,\n",
       " 'small': 6252,\n",
       " 'gift': 3140,\n",
       " 'those': 6882,\n",
       " 'who': 7527,\n",
       " 'like': 4115,\n",
       " 'participate': 5078,\n",
       " 'welcome': 7482,\n",
       " 'please': 5245,\n",
       " 'contact': 1977,\n",
       " 'admin': 812,\n",
       " 'team': 6760,\n",
       " 'yep': 7724,\n",
       " 'do': 2381,\n",
       " 'pink': 5213,\n",
       " 'furniture': 3059,\n",
       " 'tho': 6881,\n",
       " 'jesus': 3824,\n",
       " 'armand': 1067,\n",
       " 'really': 5612,\n",
       " 'trying': 7084,\n",
       " 'tell': 6777,\n",
       " 'everybody': 2670,\n",
       " 'he': 3376,\n",
       " 'can': 1626,\n",
       " 'find': 2860,\n",
       " 'will': 7550,\n",
       " 'lick': 4098,\n",
       " 'every': 2669,\n",
       " 'drop': 2465,\n",
       " 'ready': 5604,\n",
       " 'use': 7245,\n",
       " 'your': 7744,\n",
       " 'mouth': 4599,\n",
       " 'well': 7484,\n",
       " 'sleep': 6229,\n",
       " 'tired': 6932,\n",
       " 'travel': 7051,\n",
       " 'glad': 3158,\n",
       " 'following': 2932,\n",
       " 'dreams': 2451,\n",
       " 've': 7288,\n",
       " 'told': 6975,\n",
       " 'everything': 2675,\n",
       " 'stop': 6510,\n",
       " 'just': 3878,\n",
       " 'let': 4087,\n",
       " 'her': 3421,\n",
       " 'dehydrated': 2231,\n",
       " 'lol': 4187,\n",
       " 're': 5594,\n",
       " 'so': 6295,\n",
       " 'dramatic': 2446,\n",
       " 'schools': 5942,\n",
       " 'closed': 1847,\n",
       " 'tomorrow': 6986,\n",
       " 'apparently': 1021,\n",
       " 'drive': 2460,\n",
       " 'inch': 3649,\n",
       " 'snow': 6291,\n",
       " 'were': 7493,\n",
       " 'supposed': 6639,\n",
       " 'have': 3365,\n",
       " 'take': 6710,\n",
       " 'exam': 2693,\n",
       " 'with': 7581,\n",
       " 'march': 4355,\n",
       " 'thanks': 6823,\n",
       " 'honey': 3488,\n",
       " 'still': 6498,\n",
       " 'haven': 3367,\n",
       " 'heard': 3389,\n",
       " 'anything': 1004,\n",
       " 'leave': 4063,\n",
       " 'it': 3762,\n",
       " 'bit': 1364,\n",
       " 'longer': 4194,\n",
       " 'crowd': 2077,\n",
       " 'him': 3442,\n",
       " 'try': 7082,\n",
       " 'later': 4028,\n",
       " 'advice': 828,\n",
       " 'hope': 3497,\n",
       " 'cardiff': 1647,\n",
       " 'opposed': 4953,\n",
       " 'drunken': 2475,\n",
       " 'left': 4069,\n",
       " 'dessert': 2274,\n",
       " 'wan': 7401,\n",
       " 'go': 3172,\n",
       " 'suntec': 6626,\n",
       " 'look': 4197,\n",
       " 'someone': 6310,\n",
       " 'has': 3352,\n",
       " 'asked': 1096,\n",
       " 'dating': 2176,\n",
       " 'service': 6034,\n",
       " 'cant': 1637,\n",
       " 'guess': 3279,\n",
       " '09058091854': 175,\n",
       " 'revealed': 5770,\n",
       " 'po': 5262,\n",
       " 'box385': 1455,\n",
       " 'm6': 4284,\n",
       " '6wu': 597,\n",
       " 'im': 3622,\n",
       " 'wondering': 7612,\n",
       " 'what': 7508,\n",
       " 'doing': 2404,\n",
       " 'right': 5785,\n",
       " 'urgent': 7231,\n",
       " '09061749602': 202,\n",
       " 'landline': 4005,\n",
       " 'complimentary': 1932,\n",
       " 'tenerife': 6790,\n",
       " 'holiday': 3477,\n",
       " 'or': 4960,\n",
       " '10': 256,\n",
       " '000': 1,\n",
       " 'cash': 1670,\n",
       " 'await': 1165,\n",
       " 'collection': 1888,\n",
       " 'sae': 5876,\n",
       " 'cs': 2086,\n",
       " 'box': 1449,\n",
       " '528': 542,\n",
       " 'hp20': 3539,\n",
       " '1yf': 335,\n",
       " '150ppm': 303,\n",
       " '18': 312,\n",
       " 'problem': 5427,\n",
       " 'under': 7167,\n",
       " 'standing': 6453,\n",
       " 'ya': 7700,\n",
       " 'telling': 6778,\n",
       " 'abt': 761,\n",
       " 'tht': 6903,\n",
       " 'incident': 3651,\n",
       " 'excellent': 2695,\n",
       " 'spent': 6389,\n",
       " 'years': 7716,\n",
       " 'air': 877,\n",
       " 'force': 2948,\n",
       " 'iraq': 3744,\n",
       " 'afghanistan': 841,\n",
       " 'stable': 6443,\n",
       " 'honest': 3485,\n",
       " 'traveling': 7052,\n",
       " 'definitely': 2226,\n",
       " 'need': 4715,\n",
       " 'module': 4552,\n",
       " 'humanities': 3557,\n",
       " 'dis': 2347,\n",
       " 'sem': 6008,\n",
       " 'izzit': 3780,\n",
       " 'modules': 4553,\n",
       " '1st': 325,\n",
       " 'if': 3609,\n",
       " 'after': 846,\n",
       " 'ten': 6787,\n",
       " 'billion': 1350,\n",
       " 'calls': 1616,\n",
       " 'texts': 6817,\n",
       " 'help': 3410,\n",
       " 'god': 3177,\n",
       " 'reverse': 5772,\n",
       " 'cheating': 1745,\n",
       " 'mathematics': 4387,\n",
       " 'freephone': 3000,\n",
       " '0800': 45,\n",
       " '542': 545,\n",
       " '0578': 17,\n",
       " 'until': 7207,\n",
       " '545': 546,\n",
       " 'lor': 4207,\n",
       " 'dinner': 2335,\n",
       " 'together': 6968,\n",
       " 'yeah': 7714,\n",
       " 'was': 7419,\n",
       " 'thinking': 6869,\n",
       " 'days': 2182,\n",
       " 'euro2004': 2656,\n",
       " 'kickoff': 3931,\n",
       " 'kept': 3918,\n",
       " 'informed': 3681,\n",
       " 'latest': 4029,\n",
       " 'news': 4749,\n",
       " 'results': 5760,\n",
       " 'daily': 2148,\n",
       " 'unsubscribe': 7204,\n",
       " 'send': 6013,\n",
       " 'euro': 2655,\n",
       " '83222': 651,\n",
       " 'tirupur': 6936,\n",
       " 'da': 2140,\n",
       " 'once': 4925,\n",
       " 'started': 6462,\n",
       " 'office': 4891,\n",
       " 'knock': 3960,\n",
       " 'txt': 7120,\n",
       " 'whose': 7532,\n",
       " '80082': 627,\n",
       " 'enter': 2613,\n",
       " 'weekly': 7473,\n",
       " 'draw': 2448,\n",
       " '250': 357,\n",
       " 'voucher': 7355,\n",
       " 'store': 6520,\n",
       " 'yr': 7754,\n",
       " 'choice': 1797,\n",
       " 'www': 7673,\n",
       " 'tkls': 6944,\n",
       " 'com': 1894,\n",
       " 'age16': 856,\n",
       " 'stoptxtstop': 6519,\n",
       " '50': 525,\n",
       " 'week': 7469,\n",
       " 'mm': 4530,\n",
       " 'umma': 7151,\n",
       " 'vava': 7286,\n",
       " 'also': 923,\n",
       " 'come': 1899,\n",
       " 'play': 5237,\n",
       " 'yup': 7762,\n",
       " 'dun': 2492,\n",
       " 'meeting': 4426,\n",
       " 'sir': 6196,\n",
       " 'new': 4744,\n",
       " 'club': 1851,\n",
       " 'fink': 2869,\n",
       " 'met': 4462,\n",
       " 'yet': 7729,\n",
       " 'gr8': 3223,\n",
       " 'msg': 4613,\n",
       " '2day': 374,\n",
       " 'wiv': 7587,\n",
       " 'ur': 7227,\n",
       " 'area': 1054,\n",
       " '09099726553': 251,\n",
       " 'reply': 5719,\n",
       " 'promised': 5452,\n",
       " 'carlie': 1659,\n",
       " 'minmobsmore': 4491,\n",
       " 'lkpobox177hp51fl': 4162,\n",
       " 'mate': 4383,\n",
       " 'rv': 5862,\n",
       " 'did': 2306,\n",
       " 'hav': 3362,\n",
       " 'nice': 4757,\n",
       " 'hol': 3471,\n",
       " 'message': 4455,\n",
       " 'say': 5929,\n",
       " 'hello': 3408,\n",
       " 'coz': 2041,\n",
       " 'sent': 6022,\n",
       " 'ages': 861,\n",
       " 'driving': 2463,\n",
       " 'stay': 6472,\n",
       " 'off': 4883,\n",
       " 'roads': 5804,\n",
       " 'rvx': 5863,\n",
       " 'bffs': 1337,\n",
       " 'carly': 1662,\n",
       " 'quick': 5532,\n",
       " 'officially': 4894,\n",
       " 'philosophical': 5176,\n",
       " 'hole': 3476,\n",
       " 'wanna': 7404,\n",
       " 'saved': 5926,\n",
       " 'make': 4326,\n",
       " 'tonight': 6995,\n",
       " 'happy': 3342,\n",
       " 'year': 7715,\n",
       " 'family': 2771,\n",
       " 'may': 4399,\n",
       " 'this': 6875,\n",
       " 'bring': 1501,\n",
       " 'happiness': 3341,\n",
       " 'stability': 6442,\n",
       " 'tranquility': 7040,\n",
       " 'vibrant': 7305,\n",
       " 'colourful': 1892,\n",
       " 'life': 4103,\n",
       " 'fwiw': 3063,\n",
       " 'reason': 5616,\n",
       " 'only': 4933,\n",
       " 'around': 1073,\n",
       " 'when': 7513,\n",
       " 'time': 6925,\n",
       " 'smoke': 6270,\n",
       " 'because': 1274,\n",
       " 'gas': 3090,\n",
       " 'afford': 840,\n",
       " 'tells': 6780,\n",
       " 'happens': 3337,\n",
       " 'somebody': 6309,\n",
       " 'wants': 7410,\n",
       " 'light': 4111,\n",
       " '07734396839': 27,\n",
       " 'ibh': 3582,\n",
       " 'loyalty': 4245,\n",
       " 'offer': 4887,\n",
       " 'nokia6600': 4791,\n",
       " 'mobile': 4543,\n",
       " 'txtauction': 7123,\n",
       " 'word': 7622,\n",
       " 'start': 6461,\n",
       " '81151': 638,\n",
       " 'yours': 7748,\n",
       " '4t': 516,\n",
       " 'nothing': 4821,\n",
       " 'open': 4941,\n",
       " 'chat': 1737,\n",
       " 'click': 1839,\n",
       " 'friend': 3012,\n",
       " 'lists': 4150,\n",
       " 'then': 6848,\n",
       " 'list': 4143,\n",
       " 'easy': 2521,\n",
       " 'pie': 5203,\n",
       " 'she': 6081,\n",
       " 'haha': 3303,\n",
       " 'awesome': 1171,\n",
       " 'might': 4473,\n",
       " 'doin': 2402,\n",
       " 'cps': 2043,\n",
       " 'causing': 1686,\n",
       " 'outages': 4996,\n",
       " 'conserve': 1970,\n",
       " 'energy': 2598,\n",
       " 'promotion': 5456,\n",
       " '8714714': 682,\n",
       " 'awarded': 1169,\n",
       " 'city': 1814,\n",
       " 'break': 1484,\n",
       " 'could': 2024,\n",
       " 'win': 7553,\n",
       " '200': 337,\n",
       " 'summer': 6614,\n",
       " 'shopping': 6120,\n",
       " 'spree': 6426,\n",
       " 'wk': 7589,\n",
       " '88039': 686,\n",
       " 'skilgme': 6215,\n",
       " 'tscs087147403231winawk': 7089,\n",
       " '50perwksub': 533,\n",
       " 'had': 3301,\n",
       " 'money': 4566,\n",
       " 'issue': 3759,\n",
       " 'weigh': 7475,\n",
       " 'down': 2435,\n",
       " 'breathe': 1490,\n",
       " 'easier': 2516,\n",
       " 'sure': 6642,\n",
       " 'regret': 5670,\n",
       " 'month': 4574,\n",
       " 'nor': 4803,\n",
       " 'mid': 4469,\n",
       " 'eastenders': 2519,\n",
       " 'tv': 7108,\n",
       " 'quiz': 5539,\n",
       " 'flower': 2913,\n",
       " 'does': 2393,\n",
       " 'dot': 2428,\n",
       " 'compare': 1918,\n",
       " 'herself': 3425,\n",
       " 'violet': 7327,\n",
       " 'tulip': 7099,\n",
       " 'lily': 4122,\n",
       " '84025': 660,\n",
       " 'chance': 1717,\n",
       " '100': 257,\n",
       " 'wkent': 7591,\n",
       " '150p16': 300,\n",
       " '80488': 633,\n",
       " '500': 526,\n",
       " 'free': 2992,\n",
       " 'text': 6808,\n",
       " 'messages': 4457,\n",
       " 'valid': 7272,\n",
       " '31': 428,\n",
       " 'december': 2202,\n",
       " '2005': 341,\n",
       " 'ma': 4289,\n",
       " 'head': 3377,\n",
       " 'dey': 2290,\n",
       " 'swell': 6675,\n",
       " 'others': 4984,\n",
       " 'took': 7001,\n",
       " 'pay': 5107,\n",
       " 'first': 2877,\n",
       " 'lar': 4016,\n",
       " 'stock': 6501,\n",
       " 'comin': 1904,\n",
       " 'finish': 2864,\n",
       " 'spend': 6387,\n",
       " 'evening': 2664,\n",
       " 'cos': 2016,\n",
       " 'vewy': 7303,\n",
       " 'lubly': 4254,\n",
       " 'xxx': 7691,\n",
       " 'pls': 5253,\n",
       " 'fine': 2862,\n",
       " 'absolutly': 759,\n",
       " 'ringtone': 5794,\n",
       " 'order': 4966,\n",
       " 'ref': 5652,\n",
       " 'k718': 3885,\n",
       " 'charged': 1728,\n",
       " 'should': 6131,\n",
       " 'tone': 6988,\n",
       " 'arrive': 1078,\n",
       " 'services': 6035,\n",
       " '09065069120': 218,\n",
       " 'won': 7608,\n",
       " 'valued': 7276,\n",
       " 'vodafone': 7345,\n",
       " 'picked': 5196,\n",
       " '150': 297,\n",
       " 'prize': 5420,\n",
       " 'collect': 1885,\n",
       " '09061743386': 198,\n",
       " 'ic': 3589,\n",
       " 'lotta': 4219,\n",
       " 'childporn': 1778,\n",
       " 'cars': 1666,\n",
       " 'mr': 4608,\n",
       " 'sheffield': 6084,\n",
       " 'game': 3077,\n",
       " 'okay': 4908,\n",
       " 'boss': 1436,\n",
       " 'nanny': 4686,\n",
       " 'raise': 5557,\n",
       " 'further': 3060,\n",
       " 'tones': 6989,\n",
       " 'by': 1586,\n",
       " 'replying': 5720,\n",
       " 'mix': 4525,\n",
       " 'html': 3544,\n",
       " 'terms': 6796,\n",
       " 'cost': 2018,\n",
       " 'gbp4': 3102,\n",
       " 'mfl': 4465,\n",
       " '1146': 274,\n",
       " 'mk45': 4528,\n",
       " '2wt': 410,\n",
       " 'sim': 6178,\n",
       " 'subscriber': 6580,\n",
       " 'selected': 5999,\n",
       " 'receive': 5629,\n",
       " 'bonus': 1417,\n",
       " 'delivered': 2241,\n",
       " 'door': 2423,\n",
       " '88600': 690,\n",
       " 'claim': 1817,\n",
       " '150p': 299,\n",
       " 'exp': 2713,\n",
       " '30apr': 422,\n",
       " 'member': 4437,\n",
       " 'aunt': 1143,\n",
       " 'flow': 2912,\n",
       " 'didn': 2308,\n",
       " 'visit': 7335,\n",
       " 'months': 4576,\n",
       " 'cause': 1685,\n",
       " 'developed': 2285,\n",
       " 'ovarian': 5008,\n",
       " 'cysts': 2138,\n",
       " 'bc': 1256,\n",
       " 'way': 7442,\n",
       " 'shrink': 6146,\n",
       " 'finally': 2857,\n",
       " 'match': 4380,\n",
       " 'heading': 3380,\n",
       " 'towards': 7026,\n",
       " 'prediction': 5372,\n",
       " '74355': 604,\n",
       " 'xmas': 7684,\n",
       " 'iscoming': 3752,\n",
       " 'either': 2554,\n",
       " 'cd': 1691,\n",
       " 'vouchers': 7356,\n",
       " 'entry': 2622,\n",
       " 'music': 4651,\n",
       " '87066': 678,\n",
       " 'tnc': 6955,\n",
       " 'er': 2631,\n",
       " 'things': 6865,\n",
       " 'quite': 5536,\n",
       " 'plan': 5228,\n",
       " 'limping': 4127,\n",
       " 'slowly': 6248,\n",
       " 'followed': 2930,\n",
       " 'aa': 736,\n",
       " 'exhaust': 2706,\n",
       " 'hanging': 3329,\n",
       " 'typical': 7135,\n",
       " 'waiting': 7386,\n",
       " 'show': 6137,\n",
       " 'leh': 4074,\n",
       " 'busy': 1569,\n",
       " 'report': 5722,\n",
       " 'done': 2415,\n",
       " 'england': 2603,\n",
       " 'official': 4893,\n",
       " 'poly': 5292,\n",
       " 'colour': 1891,\n",
       " 'flag': 2889,\n",
       " 'yer': 7725,\n",
       " '84199': 663,\n",
       " 'opt': 4956,\n",
       " 'out': 4994,\n",
       " 'eng': 2599,\n",
       " 'box39822': 1456,\n",
       " 'w111wx': 7363,\n",
       " 'knew': 3958,\n",
       " 'woul': 7645,\n",
       " 'lead': 4051,\n",
       " 'always': 930,\n",
       " 'wanting': 7409,\n",
       " 'curfew': 2115,\n",
       " 'gonna': 3194,\n",
       " 'gibe': 3139,\n",
       " 'til': 6922,\n",
       " 'midnight': 4471,\n",
       " 'movie': 4603,\n",
       " 'getsleep': 3131,\n",
       " 'studdying': 6553,\n",
       " 'ear': 2508,\n",
       " 'training': 7037,\n",
       " 'webpage': 7460,\n",
       " 'available': 1154,\n",
       " 'bloomberg': 1395,\n",
       " 'center': 1702,\n",
       " '447797706009': 484,\n",
       " 'why': 7534,\n",
       " 'wait': 7383,\n",
       " 'apply': 1028,\n",
       " 'future': 3061,\n",
       " 'http': 3545,\n",
       " 'careers': 1653,\n",
       " 'thought': 6885,\n",
       " 'calling': 1614,\n",
       " 'lot': 4215,\n",
       " 'lil': 4121,\n",
       " 'noon': 4799,\n",
       " 'feb': 2804,\n",
       " 'aiyo': 884,\n",
       " 'poor': 5304,\n",
       " 'thing': 6864,\n",
       " 'eat': 2522,\n",
       " 'bathe': 1244,\n",
       " 'secret': 5976,\n",
       " 'admirer': 814,\n",
       " 'looking': 4201,\n",
       " 'reveal': 5769,\n",
       " 'thinks': 6870,\n",
       " 'special': 6372,\n",
       " '09058094565': 179,\n",
       " 'close': 1845,\n",
       " 'valentine': 7270,\n",
       " 'answers': 989,\n",
       " 'same': 5897,\n",
       " 'loves': 4236,\n",
       " 'ques': 5528,\n",
       " 'which': 7521,\n",
       " 'suits': 6608,\n",
       " 'best': 1322,\n",
       " 'kate': 3904,\n",
       " 'bloody': 1394,\n",
       " 'babyjontet': 1190,\n",
       " 'back': 1191,\n",
       " 'seems': 5992,\n",
       " 'unnecessarily': 7197,\n",
       " 'hostile': 3516,\n",
       " 'guaranteed': 3274,\n",
       " 'award': 1168,\n",
       " 'even': 2663,\n",
       " '1000': 258,\n",
       " 'cashto': 1673,\n",
       " '08000407165': 46,\n",
       " 'getstop': 3132,\n",
       " '88222': 689,\n",
       " 'php': 5189,\n",
       " 'diet': 2314,\n",
       " 'ate': 1118,\n",
       " 'many': 4350,\n",
       " 'slices': 6237,\n",
       " 'pizza': 5221,\n",
       " 'yesterday': 7728,\n",
       " 'ugh': 7142,\n",
       " 'arrange': 1074,\n",
       " 'sweetheart': 6672,\n",
       " 'darling': 2165,\n",
       " 'sexy': 6051,\n",
       " 'buns': 1554,\n",
       " 'sugar': 6600,\n",
       " 'plum': 5254,\n",
       " 'loverboy': 4234,\n",
       " 'boytoy': 1469,\n",
       " 'smacks': 6251,\n",
       " 'ass': 1104,\n",
       " 'gym': 3295,\n",
       " 'gone': 3193,\n",
       " 'into': 3721,\n",
       " 'info': 3678,\n",
       " 'bt': 1531,\n",
       " 'got': 3210,\n",
       " 'joanna': 3832,\n",
       " 'feeling': 2811,\n",
       " 'anti': 994,\n",
       " 'social': 6296,\n",
       " '20': 336,\n",
       " 'isnt': 3758,\n",
       " 'bad': 1193,\n",
       " 'want': 7406,\n",
       " 'include': 3653,\n",
       " 'these': 6855,\n",
       " 'wasn': 7421,\n",
       " 'washob': 7420,\n",
       " 'nobbing': 4783,\n",
       " 'last': 4023,\n",
       " 'nickey': 4760,\n",
       " 'platt': 5236,\n",
       " 'instead': 3703,\n",
       " 'realy': 5614,\n",
       " 'don': 2413,\n",
       " 'recognise': 5639,\n",
       " 'confused': 1959,\n",
       " 'prob': 5425,\n",
       " 'nah': 4672,\n",
       " 'straight': 6527,\n",
       " 'bud': 1537,\n",
       " 'drinks': 2459,\n",
       " 'something': 6316,\n",
       " 'actually': 800,\n",
       " 'little': 4154,\n",
       " 'useful': 7247,\n",
       " 'than': 6820,\n",
       " 'luv': 4266,\n",
       " 'soo': 6331,\n",
       " 'much': 4629,\n",
       " 'understand': 7169,\n",
       " 'ring': 5791,\n",
       " '2morrow': 390,\n",
       " 'cool': 2001,\n",
       " 'dled': 2377,\n",
       " '3d': 446,\n",
       " 'very': 7301,\n",
       " 'imp': 3633,\n",
       " 'custom': 2123,\n",
       " 'officer': 4892,\n",
       " 'discount': 2356,\n",
       " 'babe': 1185,\n",
       " 'covers': 2040,\n",
       " 'kisses': 3951,\n",
       " 'important': 3637,\n",
       " 'announcement': 978,\n",
       " '0825': 59,\n",
       " 'missionary': 4513,\n",
       " 'hook': 3495,\n",
       " 'brainless': 1474,\n",
       " 'baby': 1188,\n",
       " 'doll': 2408,\n",
       " 'vehicle': 7292,\n",
       " 'sariyag': 5911,\n",
       " 'madoke': 4307,\n",
       " 'barolla': 1229,\n",
       " 'solve': 6305,\n",
       " 'case': 1669,\n",
       " 'man': 4336,\n",
       " 'found': 2973,\n",
       " 'murdered': 4646,\n",
       " 'decimal': 2206,\n",
       " 'afternoon': 848,\n",
       " 'wife': 7541,\n",
       " 'police': 5289,\n",
       " 'questioned': 5530,\n",
       " 'everyone': 2673,\n",
       " 'sleeping': 6231,\n",
       " 'murder': 4645,\n",
       " 'place': 5223,\n",
       " 'cook': 1997,\n",
       " 'cooking': 2000,\n",
       " 'gardener': 3088,\n",
       " 'picking': 5197,\n",
       " 'vegetables': 7290,\n",
       " 'house': 3525,\n",
       " 'maid': 4317,\n",
       " 'went': 7490,\n",
       " 'post': 5330,\n",
       " 'children': 1779,\n",
       " 'neighbour': 4727,\n",
       " 'marriage': 4365,\n",
       " 'arrested': 1076,\n",
       " 'murderer': 4647,\n",
       " 'immediately': 3632,\n",
       " 'brilliant': 1498,\n",
       " 'chinatown': 1786,\n",
       " 'porridge': 5312,\n",
       " 'claypot': 1829,\n",
       " 'rice': 5781,\n",
       " 'yam': 7705,\n",
       " 'cake': 1595,\n",
       " 'fishhead': 2879,\n",
       " 'beehoon': 1285,\n",
       " 'cheap': 1742,\n",
       " 'den': 2248,\n",
       " 'cafe': 1593,\n",
       " 'tok': 6971,\n",
       " 'nydc': 4858,\n",
       " 'somethin': 6315,\n",
       " 'rply': 5834,\n",
       " 'where': 7517,\n",
       " 'taking': 6714,\n",
       " 'part': 5077,\n",
       " 'survey': 6653,\n",
       " 'however': 3534,\n",
       " 'wish': 7573,\n",
       " 'txts': 7127,\n",
       " '80160': 631,\n",
       " 'txt43': 7122,\n",
       " '50p': 531,\n",
       " 'anyway': 1006,\n",
       " 'evenings': 2665,\n",
       " 'nokia': 4790,\n",
       " '7250i': 601,\n",
       " 'auction': 1137,\n",
       " '86021': 672,\n",
       " 'hg': 3432,\n",
       " 'suite342': 6606,\n",
       " '2lands': 385,\n",
       " 'row': 5830,\n",
       " 'w1jhl': 7368,\n",
       " '16': 309,\n",
       " 'thk': 6876,\n",
       " '530': 543,\n",
       " 'dunno': 2494,\n",
       " 'tickets': 6913,\n",
       " 'wat': 7426,\n",
       " 'waking': 7388,\n",
       " 'sup': 6627,\n",
       " 'yes': 7726,\n",
       " 'completely': 1929,\n",
       " 'form': 2961,\n",
       " 'clark': 1823,\n",
       " 'utter': 7259,\n",
       " 'waste': 7423,\n",
       " 'ha': 3298,\n",
       " 'must': 4653,\n",
       " 'walk': 7391,\n",
       " 'everywhere': 2677,\n",
       " 'cannot': 1636,\n",
       " 'tram': 7039,\n",
       " 'cousin': 2037,\n",
       " 'vic': 7308,\n",
       " 'market': 4360,\n",
       " 'hotel': 3518,\n",
       " 'blake': 1373,\n",
       " 'able': 751,\n",
       " 'early': 2511,\n",
       " 'thank': 6822,\n",
       " 'been': 1286,\n",
       " 'wonderful': 7611,\n",
       " 'catching': 1682,\n",
       " 'some': 6307,\n",
       " 'chk': 1794,\n",
       " 'belovd': 1312,\n",
       " 'ms': 4612,\n",
       " 'dict': 2304,\n",
       " 'check': 1747,\n",
       " 'mail': 4318,\n",
       " 'mailed': 4320,\n",
       " 'varma': 7282,\n",
       " 'copy': 2007,\n",
       " 'regarding': 5665,\n",
       " 'membership': 4439,\n",
       " 'care': 1649,\n",
       " 'insha': 3697,\n",
       " 'allah': 909,\n",
       " 'sry': 6440,\n",
       " 'talk': 6717,\n",
       " 'parents': 5071,\n",
       " 'born': 1434,\n",
       " 'another': 982,\n",
       " 'idiot': 3604,\n",
       " 'competition': 1921,\n",
       " 'two': 7118,\n",
       " 'become': 1276,\n",
       " 'freinds': 3002,\n",
       " 'forever': 2952,\n",
       " 'probably': 5426,\n",
       " 'while': 7522,\n",
       " 'near': 4708,\n",
       " 'kalainar': 3892,\n",
       " 'thenampet': 6849,\n",
       " 'lovely': 4231,\n",
       " 'wisheds': 7574,\n",
       " 'rock': 5808,\n",
       " 'eh': 2548,\n",
       " 'wrongly': 7663,\n",
       " 'india': 3668,\n",
       " 'morning': 4584,\n",
       " 'haf': 3302,\n",
       " 'passport': 5093,\n",
       " 'smth': 6281,\n",
       " 'dat': 2171,\n",
       " 'juz': 3883,\n",
       " 'account': 778,\n",
       " 'tomo': 6984,\n",
       " 'lunchtime': 4263,\n",
       " 'shall': 6068,\n",
       " 'organise': 4973,\n",
       " 'horrible': 3509,\n",
       " 'bf': 1336,\n",
       " 'hungry': 3562,\n",
       " 'shanil': 6072,\n",
       " 'rakhesh': 5564,\n",
       " 'exchanged': 2697,\n",
       " 'uncut': 7166,\n",
       " 'diamond': 2300,\n",
       " 'leaving': 4065,\n",
       " 'dino': 2336,\n",
       " 'prem': 5376,\n",
       " 'dad': 2144,\n",
       " 'oredi': 4970,\n",
       " 'unbelievable': 7156,\n",
       " 'faglord': 2753,\n",
       " 'sounds': 6350,\n",
       " 'chastity': 1736,\n",
       " 'device': 2287,\n",
       " 'boy': 1464,\n",
       " 'grins': 3254,\n",
       " 'beatings': 1270,\n",
       " 'dog': 2397,\n",
       " 'lounge': 4224,\n",
       " 'long': 4193,\n",
       " 'bath': 1243,\n",
       " 'being': 1304,\n",
       " 'contacted': 1978,\n",
       " '09064017305': 214,\n",
       " 'pobox75ldns7': 5273,\n",
       " 'delay': 2234,\n",
       " 'masters': 4378,\n",
       " 'person': 5155,\n",
       " 'na': 4667,\n",
       " 'rose': 5824,\n",
       " 'needs': 4720,\n",
       " 'water': 7433,\n",
       " 'season': 5970,\n",
       " 'change': 1719,\n",
       " 'poet': 5282,\n",
       " 'imagination': 3624,\n",
       " 'sms': 6276,\n",
       " 'frndship': 3023,\n",
       " 'aight': 874,\n",
       " 'guys': 3292,\n",
       " 'coming': 1905,\n",
       " 'over': 5010,\n",
       " 'search': 5968,\n",
       " 'job': 3833,\n",
       " 'general': 3112,\n",
       " 'price': 5403,\n",
       " ...}"
      ]
     },
     "execution_count": 30,
     "metadata": {},
     "output_type": "execute_result"
    }
   ],
   "source": [
    "cv.vocabulary_"
   ]
  },
  {
   "cell_type": "code",
   "execution_count": 39,
   "id": "e88ab844",
   "metadata": {},
   "outputs": [
    {
     "data": {
      "text/plain": [
       "'thinking'"
      ]
     },
     "execution_count": 39,
     "metadata": {},
     "output_type": "execute_result"
    }
   ],
   "source": [
    "cv.get_feature_names_out()[6869]"
   ]
  },
  {
   "cell_type": "code",
   "execution_count": null,
   "id": "d51bee75",
   "metadata": {},
   "outputs": [],
   "source": []
  },
  {
   "cell_type": "code",
   "execution_count": 40,
   "id": "daa82c55",
   "metadata": {},
   "outputs": [],
   "source": [
    "X_train_np=X_train_cv.toarray()"
   ]
  },
  {
   "cell_type": "code",
   "execution_count": 44,
   "id": "90710793",
   "metadata": {},
   "outputs": [
    {
     "data": {
      "text/plain": [
       "array([0, 0, 0, ..., 0, 0, 0], dtype=int64)"
      ]
     },
     "execution_count": 44,
     "metadata": {},
     "output_type": "execute_result"
    }
   ],
   "source": [
    "X_train_np[:4][1]"
   ]
  },
  {
   "cell_type": "code",
   "execution_count": 45,
   "id": "3da116b0",
   "metadata": {},
   "outputs": [
    {
     "data": {
      "text/plain": [
       "(array([ 753,  962, 2400, 2605, 2795, 3157, 3244, 3270, 3530, 3751, 4228,\n",
       "        4250, 4330, 4659, 4764, 4962, 5135, 5321, 5409, 5632, 6567, 6926,\n",
       "        7740], dtype=int64),)"
      ]
     },
     "execution_count": 45,
     "metadata": {},
     "output_type": "execute_result"
    }
   ],
   "source": [
    "np.where(X_train_np[0]!=0)"
   ]
  },
  {
   "cell_type": "code",
   "execution_count": 55,
   "id": "030d8e9c",
   "metadata": {},
   "outputs": [
    {
     "data": {
      "text/plain": [
       "'great princess! I love giving and receiving oral. Doggy style is my fave position. How about you? I enjoy making love  &lt;#&gt;  times per night :)'"
      ]
     },
     "execution_count": 55,
     "metadata": {},
     "output_type": "execute_result"
    }
   ],
   "source": [
    "X_train[:4][466]"
   ]
  },
  {
   "cell_type": "code",
   "execution_count": 60,
   "id": "8f7ee48e",
   "metadata": {},
   "outputs": [
    {
     "data": {
      "text/plain": [
       "1"
      ]
     },
     "execution_count": 60,
     "metadata": {},
     "output_type": "execute_result"
    }
   ],
   "source": [
    "X_train_np[0][753]"
   ]
  },
  {
   "cell_type": "code",
   "execution_count": 64,
   "id": "baff76e9",
   "metadata": {},
   "outputs": [
    {
     "data": {
      "text/plain": [
       "'style'"
      ]
     },
     "execution_count": 64,
     "metadata": {},
     "output_type": "execute_result"
    }
   ],
   "source": [
    "cv.get_feature_names_out()[6567]"
   ]
  },
  {
   "cell_type": "code",
   "execution_count": null,
   "id": "44b7d181",
   "metadata": {},
   "outputs": [],
   "source": []
  },
  {
   "cell_type": "markdown",
   "id": "c65fc1cf",
   "metadata": {},
   "source": [
    "# Build machine learning module"
   ]
  },
  {
   "cell_type": "code",
   "execution_count": 67,
   "id": "ba3db270",
   "metadata": {},
   "outputs": [
    {
     "data": {
      "text/html": [
       "<style>#sk-container-id-1 {color: black;background-color: white;}#sk-container-id-1 pre{padding: 0;}#sk-container-id-1 div.sk-toggleable {background-color: white;}#sk-container-id-1 label.sk-toggleable__label {cursor: pointer;display: block;width: 100%;margin-bottom: 0;padding: 0.3em;box-sizing: border-box;text-align: center;}#sk-container-id-1 label.sk-toggleable__label-arrow:before {content: \"▸\";float: left;margin-right: 0.25em;color: #696969;}#sk-container-id-1 label.sk-toggleable__label-arrow:hover:before {color: black;}#sk-container-id-1 div.sk-estimator:hover label.sk-toggleable__label-arrow:before {color: black;}#sk-container-id-1 div.sk-toggleable__content {max-height: 0;max-width: 0;overflow: hidden;text-align: left;background-color: #f0f8ff;}#sk-container-id-1 div.sk-toggleable__content pre {margin: 0.2em;color: black;border-radius: 0.25em;background-color: #f0f8ff;}#sk-container-id-1 input.sk-toggleable__control:checked~div.sk-toggleable__content {max-height: 200px;max-width: 100%;overflow: auto;}#sk-container-id-1 input.sk-toggleable__control:checked~label.sk-toggleable__label-arrow:before {content: \"▾\";}#sk-container-id-1 div.sk-estimator input.sk-toggleable__control:checked~label.sk-toggleable__label {background-color: #d4ebff;}#sk-container-id-1 div.sk-label input.sk-toggleable__control:checked~label.sk-toggleable__label {background-color: #d4ebff;}#sk-container-id-1 input.sk-hidden--visually {border: 0;clip: rect(1px 1px 1px 1px);clip: rect(1px, 1px, 1px, 1px);height: 1px;margin: -1px;overflow: hidden;padding: 0;position: absolute;width: 1px;}#sk-container-id-1 div.sk-estimator {font-family: monospace;background-color: #f0f8ff;border: 1px dotted black;border-radius: 0.25em;box-sizing: border-box;margin-bottom: 0.5em;}#sk-container-id-1 div.sk-estimator:hover {background-color: #d4ebff;}#sk-container-id-1 div.sk-parallel-item::after {content: \"\";width: 100%;border-bottom: 1px solid gray;flex-grow: 1;}#sk-container-id-1 div.sk-label:hover label.sk-toggleable__label {background-color: #d4ebff;}#sk-container-id-1 div.sk-serial::before {content: \"\";position: absolute;border-left: 1px solid gray;box-sizing: border-box;top: 0;bottom: 0;left: 50%;z-index: 0;}#sk-container-id-1 div.sk-serial {display: flex;flex-direction: column;align-items: center;background-color: white;padding-right: 0.2em;padding-left: 0.2em;position: relative;}#sk-container-id-1 div.sk-item {position: relative;z-index: 1;}#sk-container-id-1 div.sk-parallel {display: flex;align-items: stretch;justify-content: center;background-color: white;position: relative;}#sk-container-id-1 div.sk-item::before, #sk-container-id-1 div.sk-parallel-item::before {content: \"\";position: absolute;border-left: 1px solid gray;box-sizing: border-box;top: 0;bottom: 0;left: 50%;z-index: -1;}#sk-container-id-1 div.sk-parallel-item {display: flex;flex-direction: column;z-index: 1;position: relative;background-color: white;}#sk-container-id-1 div.sk-parallel-item:first-child::after {align-self: flex-end;width: 50%;}#sk-container-id-1 div.sk-parallel-item:last-child::after {align-self: flex-start;width: 50%;}#sk-container-id-1 div.sk-parallel-item:only-child::after {width: 0;}#sk-container-id-1 div.sk-dashed-wrapped {border: 1px dashed gray;margin: 0 0.4em 0.5em 0.4em;box-sizing: border-box;padding-bottom: 0.4em;background-color: white;}#sk-container-id-1 div.sk-label label {font-family: monospace;font-weight: bold;display: inline-block;line-height: 1.2em;}#sk-container-id-1 div.sk-label-container {text-align: center;}#sk-container-id-1 div.sk-container {/* jupyter's `normalize.less` sets `[hidden] { display: none; }` but bootstrap.min.css set `[hidden] { display: none !important; }` so we also need the `!important` here to be able to override the default hidden behavior on the sphinx rendered scikit-learn.org. See: https://github.com/scikit-learn/scikit-learn/issues/21755 */display: inline-block !important;position: relative;}#sk-container-id-1 div.sk-text-repr-fallback {display: none;}</style><div id=\"sk-container-id-1\" class=\"sk-top-container\"><div class=\"sk-text-repr-fallback\"><pre>MultinomialNB()</pre><b>In a Jupyter environment, please rerun this cell to show the HTML representation or trust the notebook. <br />On GitHub, the HTML representation is unable to render, please try loading this page with nbviewer.org.</b></div><div class=\"sk-container\" hidden><div class=\"sk-item\"><div class=\"sk-estimator sk-toggleable\"><input class=\"sk-toggleable__control sk-hidden--visually\" id=\"sk-estimator-id-1\" type=\"checkbox\" checked><label for=\"sk-estimator-id-1\" class=\"sk-toggleable__label sk-toggleable__label-arrow\">MultinomialNB</label><div class=\"sk-toggleable__content\"><pre>MultinomialNB()</pre></div></div></div></div></div>"
      ],
      "text/plain": [
       "MultinomialNB()"
      ]
     },
     "execution_count": 67,
     "metadata": {},
     "output_type": "execute_result"
    }
   ],
   "source": [
    "model=MultinomialNB()\n",
    "model.fit(X_train_cv,y_train)"
   ]
  },
  {
   "cell_type": "code",
   "execution_count": 68,
   "id": "7d162cf2",
   "metadata": {},
   "outputs": [],
   "source": [
    "X_test_cv=cv.transform(X_test)"
   ]
  },
  {
   "cell_type": "code",
   "execution_count": 70,
   "id": "6ad4a49a",
   "metadata": {},
   "outputs": [],
   "source": [
    "y_predict=model.predict(X_test_cv)"
   ]
  },
  {
   "cell_type": "code",
   "execution_count": 72,
   "id": "80e8d76d",
   "metadata": {},
   "outputs": [
    {
     "name": "stdout",
     "output_type": "stream",
     "text": [
      "              precision    recall  f1-score   support\n",
      "\n",
      "           0       0.99      1.00      0.99       972\n",
      "           1       0.99      0.93      0.96       143\n",
      "\n",
      "    accuracy                           0.99      1115\n",
      "   macro avg       0.99      0.96      0.98      1115\n",
      "weighted avg       0.99      0.99      0.99      1115\n",
      "\n"
     ]
    }
   ],
   "source": [
    "print(classification_report(y_test,y_predict))"
   ]
  },
  {
   "cell_type": "code",
   "execution_count": null,
   "id": "ee138871",
   "metadata": {},
   "outputs": [],
   "source": []
  },
  {
   "cell_type": "markdown",
   "id": "b56d2384",
   "metadata": {},
   "source": [
    "# Test the model"
   ]
  },
  {
   "cell_type": "code",
   "execution_count": 93,
   "id": "0be8c57a",
   "metadata": {},
   "outputs": [],
   "source": [
    "emails=[\n",
    "    'Hi sajan how are you?',\n",
    "    'upto 50% discoutn on parking',\n",
    "    'how can i help you',\n",
    "    'sorry i can not '\n",
    "    \"Free entry in 2 a wkly comp to win FA Cup final tkts 21st May 2005. Text FA to 87121 to receive entry question(std txt rate)T&C's apply 08452810075over18's\"\n",
    "]"
   ]
  },
  {
   "cell_type": "code",
   "execution_count": 94,
   "id": "fa23c149",
   "metadata": {},
   "outputs": [
    {
     "data": {
      "text/plain": [
       "['Hi sajan how are you?',\n",
       " 'upto 50% discoutn on parking',\n",
       " 'how can i help you',\n",
       " \"sorry i can not Free entry in 2 a wkly comp to win FA Cup final tkts 21st May 2005. Text FA to 87121 to receive entry question(std txt rate)T&C's apply 08452810075over18's\"]"
      ]
     },
     "execution_count": 94,
     "metadata": {},
     "output_type": "execute_result"
    }
   ],
   "source": [
    "emails"
   ]
  },
  {
   "cell_type": "code",
   "execution_count": 95,
   "id": "cc001eb6",
   "metadata": {},
   "outputs": [],
   "source": [
    "email_count=cv.transform(emails)"
   ]
  },
  {
   "cell_type": "code",
   "execution_count": 96,
   "id": "db68cf27",
   "metadata": {},
   "outputs": [
    {
     "data": {
      "text/plain": [
       "array([0, 1, 0, 1], dtype=int64)"
      ]
     },
     "execution_count": 96,
     "metadata": {},
     "output_type": "execute_result"
    }
   ],
   "source": [
    "model.predict(email_count)"
   ]
  },
  {
   "cell_type": "code",
   "execution_count": null,
   "id": "6bec67a7",
   "metadata": {},
   "outputs": [],
   "source": []
  }
 ],
 "metadata": {
  "kernelspec": {
   "display_name": "Python 3 (ipykernel)",
   "language": "python",
   "name": "python3"
  },
  "language_info": {
   "codemirror_mode": {
    "name": "ipython",
    "version": 3
   },
   "file_extension": ".py",
   "mimetype": "text/x-python",
   "name": "python",
   "nbconvert_exporter": "python",
   "pygments_lexer": "ipython3",
   "version": "3.9.13"
  }
 },
 "nbformat": 4,
 "nbformat_minor": 5
}
