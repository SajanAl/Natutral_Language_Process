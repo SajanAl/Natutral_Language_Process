{
 "cells": [
  {
   "cell_type": "code",
   "execution_count": 15,
   "id": "29f4ee7f",
   "metadata": {},
   "outputs": [],
   "source": [
    "from sklearn.feature_extraction.text import TfidfVectorizer"
   ]
  },
  {
   "cell_type": "code",
   "execution_count": 5,
   "id": "50db4ae7",
   "metadata": {},
   "outputs": [],
   "source": [
    "corpus=['Thor eating pizza, loki looking pizza',\n",
    "        'Apple is announcing new iphone tomorrow',\n",
    "        'Tesla is announcing new model-3 tomorrow',\n",
    "        'Microsoft is announcing new surface tomorrow',\n",
    "        'Google is announcing new pixel-6 tomorrow',\n",
    "        'Amazon is announcing new eco dot tomorrow',\n",
    "        'I am eating biryani and you are eating grapes',\n",
    "        'Something is amazing',\n",
    "       ]"
   ]
  },
  {
   "cell_type": "code",
   "execution_count": 27,
   "id": "c5bbab60",
   "metadata": {},
   "outputs": [
    {
     "data": {
      "text/plain": [
       "array([[0.        , 0.        , 0.        , 0.        , 0.        ,\n",
       "        0.        , 0.        , 0.        , 0.        , 0.3019758 ,\n",
       "        0.        , 0.        , 0.        , 0.        , 0.        ,\n",
       "        0.36031943, 0.36031943, 0.        , 0.        , 0.        ,\n",
       "        0.        , 0.72063885, 0.        , 0.        , 0.        ,\n",
       "        0.36031943, 0.        , 0.        ],\n",
       "       [0.        , 0.        , 0.        , 0.        , 0.3140158 ,\n",
       "        0.55947306, 0.        , 0.        , 0.        , 0.        ,\n",
       "        0.        , 0.        , 0.        , 0.55947306, 0.27957471,\n",
       "        0.        , 0.        , 0.        , 0.        , 0.3140158 ,\n",
       "        0.        , 0.        , 0.        , 0.        , 0.        ,\n",
       "        0.        , 0.3140158 , 0.        ],\n",
       "       [0.        , 0.        , 0.        , 0.        , 0.3140158 ,\n",
       "        0.        , 0.        , 0.        , 0.        , 0.        ,\n",
       "        0.        , 0.        , 0.        , 0.        , 0.27957471,\n",
       "        0.        , 0.        , 0.        , 0.55947306, 0.3140158 ,\n",
       "        0.        , 0.        , 0.        , 0.        , 0.55947306,\n",
       "        0.        , 0.3140158 , 0.        ],\n",
       "       [0.        , 0.        , 0.        , 0.        , 0.3140158 ,\n",
       "        0.        , 0.        , 0.        , 0.        , 0.        ,\n",
       "        0.        , 0.        , 0.        , 0.        , 0.27957471,\n",
       "        0.        , 0.        , 0.55947306, 0.        , 0.3140158 ,\n",
       "        0.        , 0.        , 0.        , 0.55947306, 0.        ,\n",
       "        0.        , 0.3140158 , 0.        ],\n",
       "       [0.        , 0.        , 0.        , 0.        , 0.3140158 ,\n",
       "        0.        , 0.        , 0.        , 0.        , 0.        ,\n",
       "        0.        , 0.55947306, 0.        , 0.        , 0.27957471,\n",
       "        0.        , 0.        , 0.        , 0.        , 0.3140158 ,\n",
       "        0.55947306, 0.        , 0.        , 0.        , 0.        ,\n",
       "        0.        , 0.3140158 , 0.        ],\n",
       "       [0.        , 0.        , 0.48825325, 0.        , 0.27404221,\n",
       "        0.        , 0.        , 0.        , 0.48825325, 0.        ,\n",
       "        0.48825325, 0.        , 0.        , 0.        , 0.24398541,\n",
       "        0.        , 0.        , 0.        , 0.        , 0.27404221,\n",
       "        0.        , 0.        , 0.        , 0.        , 0.        ,\n",
       "        0.        , 0.27404221, 0.        ],\n",
       "       [0.33691814, 0.        , 0.        , 0.33691814, 0.        ,\n",
       "        0.        , 0.33691814, 0.33691814, 0.        , 0.56472738,\n",
       "        0.        , 0.        , 0.33691814, 0.        , 0.        ,\n",
       "        0.        , 0.        , 0.        , 0.        , 0.        ,\n",
       "        0.        , 0.        , 0.        , 0.        , 0.        ,\n",
       "        0.        , 0.        , 0.33691814],\n",
       "       [0.        , 0.66670951, 0.        , 0.        , 0.        ,\n",
       "        0.        , 0.        , 0.        , 0.        , 0.        ,\n",
       "        0.        , 0.        , 0.        , 0.        , 0.33316192,\n",
       "        0.        , 0.        , 0.        , 0.        , 0.        ,\n",
       "        0.        , 0.        , 0.66670951, 0.        , 0.        ,\n",
       "        0.        , 0.        , 0.        ]])"
      ]
     },
     "execution_count": 27,
     "metadata": {},
     "output_type": "execute_result"
    }
   ],
   "source": [
    "tf=TfidfVectorizer()\n",
    "transform_output=tf.fit_transform(corpus).toarray()\n",
    "transform_output"
   ]
  },
  {
   "cell_type": "code",
   "execution_count": 11,
   "id": "cf561a39",
   "metadata": {},
   "outputs": [
    {
     "name": "stdout",
     "output_type": "stream",
     "text": [
      "{'thor': 25, 'eating': 9, 'pizza': 21, 'loki': 15, 'looking': 16, 'apple': 5, 'is': 14, 'announcing': 4, 'new': 19, 'iphone': 13, 'tomorrow': 26, 'tesla': 24, 'model': 18, 'microsoft': 17, 'surface': 23, 'google': 11, 'pixel': 20, 'amazon': 2, 'eco': 10, 'dot': 8, 'am': 0, 'biryani': 7, 'and': 3, 'you': 27, 'are': 6, 'grapes': 12, 'something': 22, 'amazing': 1}\n"
     ]
    }
   ],
   "source": [
    "print(tf.vocabulary_)"
   ]
  },
  {
   "cell_type": "code",
   "execution_count": 10,
   "id": "d2a8f50d",
   "metadata": {},
   "outputs": [
    {
     "data": {
      "text/plain": [
       "array([2.5040774 , 2.5040774 , 2.5040774 , 2.5040774 , 1.40546511,\n",
       "       2.5040774 , 2.5040774 , 2.5040774 , 2.5040774 , 2.09861229,\n",
       "       2.5040774 , 2.5040774 , 2.5040774 , 2.5040774 , 1.25131443,\n",
       "       2.5040774 , 2.5040774 , 2.5040774 , 2.5040774 , 1.40546511,\n",
       "       2.5040774 , 2.5040774 , 2.5040774 , 2.5040774 , 2.5040774 ,\n",
       "       2.5040774 , 1.40546511, 2.5040774 ])"
      ]
     },
     "execution_count": 10,
     "metadata": {},
     "output_type": "execute_result"
    }
   ],
   "source": [
    "tf.idf_"
   ]
  },
  {
   "cell_type": "code",
   "execution_count": 12,
   "id": "83a5093a",
   "metadata": {},
   "outputs": [
    {
     "data": {
      "text/plain": [
       "True"
      ]
     },
     "execution_count": 12,
     "metadata": {},
     "output_type": "execute_result"
    }
   ],
   "source": [
    "tf.smooth_idf"
   ]
  },
  {
   "cell_type": "code",
   "execution_count": 13,
   "id": "6a127842",
   "metadata": {},
   "outputs": [
    {
     "data": {
      "text/plain": [
       "True"
      ]
     },
     "execution_count": 13,
     "metadata": {},
     "output_type": "execute_result"
    }
   ],
   "source": [
    "tf.use_idf"
   ]
  },
  {
   "cell_type": "code",
   "execution_count": 20,
   "id": "61b9a4b1",
   "metadata": {},
   "outputs": [
    {
     "data": {
      "text/plain": [
       "'google'"
      ]
     },
     "execution_count": 20,
     "metadata": {},
     "output_type": "execute_result"
    }
   ],
   "source": [
    "tf.get_feature_names_out()[11]# giving vocabulary"
   ]
  },
  {
   "cell_type": "code",
   "execution_count": 16,
   "id": "70094ea5",
   "metadata": {},
   "outputs": [],
   "source": [
    "all_feature_name=tf.get_feature_names_out()"
   ]
  },
  {
   "cell_type": "code",
   "execution_count": 23,
   "id": "2b77acae",
   "metadata": {},
   "outputs": [
    {
     "data": {
      "text/plain": [
       "2"
      ]
     },
     "execution_count": 23,
     "metadata": {},
     "output_type": "execute_result"
    }
   ],
   "source": [
    "tf.vocabulary_.get('amazon')"
   ]
  },
  {
   "cell_type": "markdown",
   "id": "face7523",
   "metadata": {},
   "source": [
    "# TF-IDF score"
   ]
  },
  {
   "cell_type": "code",
   "execution_count": 24,
   "id": "d9a27e14",
   "metadata": {},
   "outputs": [
    {
     "name": "stdout",
     "output_type": "stream",
     "text": [
      "am,2.504077396776274\n",
      "amazing,2.504077396776274\n",
      "amazon,2.504077396776274\n",
      "and,2.504077396776274\n",
      "announcing,1.4054651081081644\n",
      "apple,2.504077396776274\n",
      "are,2.504077396776274\n",
      "biryani,2.504077396776274\n",
      "dot,2.504077396776274\n",
      "eating,2.09861228866811\n",
      "eco,2.504077396776274\n",
      "google,2.504077396776274\n",
      "grapes,2.504077396776274\n",
      "iphone,2.504077396776274\n",
      "is,1.251314428280906\n",
      "loki,2.504077396776274\n",
      "looking,2.504077396776274\n",
      "microsoft,2.504077396776274\n",
      "model,2.504077396776274\n",
      "new,1.4054651081081644\n",
      "pixel,2.504077396776274\n",
      "pizza,2.504077396776274\n",
      "something,2.504077396776274\n",
      "surface,2.504077396776274\n",
      "tesla,2.504077396776274\n",
      "thor,2.504077396776274\n",
      "tomorrow,1.4054651081081644\n",
      "you,2.504077396776274\n"
     ]
    }
   ],
   "source": [
    "for word in all_feature_name:\n",
    "    indx=tf.vocabulary_.get(word)\n",
    "    print(f\"{word},{tf.idf_[indx]}\")"
   ]
  },
  {
   "cell_type": "code",
   "execution_count": 29,
   "id": "910aa028",
   "metadata": {},
   "outputs": [
    {
     "data": {
      "text/plain": [
       "array([[0.        , 0.        , 0.        , 0.        , 0.        ,\n",
       "        0.        , 0.        , 0.        , 0.        , 0.3019758 ,\n",
       "        0.        , 0.        , 0.        , 0.        , 0.        ,\n",
       "        0.36031943, 0.36031943, 0.        , 0.        , 0.        ,\n",
       "        0.        , 0.72063885, 0.        , 0.        , 0.        ,\n",
       "        0.36031943, 0.        , 0.        ],\n",
       "       [0.        , 0.        , 0.        , 0.        , 0.3140158 ,\n",
       "        0.55947306, 0.        , 0.        , 0.        , 0.        ,\n",
       "        0.        , 0.        , 0.        , 0.55947306, 0.27957471,\n",
       "        0.        , 0.        , 0.        , 0.        , 0.3140158 ,\n",
       "        0.        , 0.        , 0.        , 0.        , 0.        ,\n",
       "        0.        , 0.3140158 , 0.        ]])"
      ]
     },
     "execution_count": 29,
     "metadata": {},
     "output_type": "execute_result"
    }
   ],
   "source": [
    "transform_output[:2]"
   ]
  },
  {
   "cell_type": "code",
   "execution_count": 1,
   "id": "0a8e3d16",
   "metadata": {},
   "outputs": [],
   "source": [
    "import pandas as pd"
   ]
  },
  {
   "cell_type": "code",
   "execution_count": 2,
   "id": "e0399c96",
   "metadata": {},
   "outputs": [
    {
     "name": "stdout",
     "output_type": "stream",
     "text": [
      "(24000, 2)\n"
     ]
    },
    {
     "data": {
      "text/html": [
       "<div>\n",
       "<style scoped>\n",
       "    .dataframe tbody tr th:only-of-type {\n",
       "        vertical-align: middle;\n",
       "    }\n",
       "\n",
       "    .dataframe tbody tr th {\n",
       "        vertical-align: top;\n",
       "    }\n",
       "\n",
       "    .dataframe thead th {\n",
       "        text-align: right;\n",
       "    }\n",
       "</style>\n",
       "<table border=\"1\" class=\"dataframe\">\n",
       "  <thead>\n",
       "    <tr style=\"text-align: right;\">\n",
       "      <th></th>\n",
       "      <th>Text</th>\n",
       "      <th>label</th>\n",
       "    </tr>\n",
       "  </thead>\n",
       "  <tbody>\n",
       "    <tr>\n",
       "      <th>0</th>\n",
       "      <td>Urban Ladder Eisner Low Back Study-Office Comp...</td>\n",
       "      <td>Household</td>\n",
       "    </tr>\n",
       "    <tr>\n",
       "      <th>1</th>\n",
       "      <td>Contrast living Wooden Decorative Box,Painted ...</td>\n",
       "      <td>Household</td>\n",
       "    </tr>\n",
       "    <tr>\n",
       "      <th>2</th>\n",
       "      <td>IO Crest SY-PCI40010 PCI RAID Host Controller ...</td>\n",
       "      <td>Electronics</td>\n",
       "    </tr>\n",
       "    <tr>\n",
       "      <th>3</th>\n",
       "      <td>ISAKAA Baby Socks from Just Born to 8 Years- P...</td>\n",
       "      <td>Clothing &amp; Accessories</td>\n",
       "    </tr>\n",
       "    <tr>\n",
       "      <th>4</th>\n",
       "      <td>Indira Designer Women's Art Mysore Silk Saree ...</td>\n",
       "      <td>Clothing &amp; Accessories</td>\n",
       "    </tr>\n",
       "  </tbody>\n",
       "</table>\n",
       "</div>"
      ],
      "text/plain": [
       "                                                Text                   label\n",
       "0  Urban Ladder Eisner Low Back Study-Office Comp...               Household\n",
       "1  Contrast living Wooden Decorative Box,Painted ...               Household\n",
       "2  IO Crest SY-PCI40010 PCI RAID Host Controller ...             Electronics\n",
       "3  ISAKAA Baby Socks from Just Born to 8 Years- P...  Clothing & Accessories\n",
       "4  Indira Designer Women's Art Mysore Silk Saree ...  Clothing & Accessories"
      ]
     },
     "execution_count": 2,
     "metadata": {},
     "output_type": "execute_result"
    }
   ],
   "source": [
    "df=pd.read_csv('D:/Data/Ecommerce_data.csv')\n",
    "print(df.shape)\n",
    "df.head()"
   ]
  },
  {
   "cell_type": "code",
   "execution_count": 3,
   "id": "5045ae0a",
   "metadata": {},
   "outputs": [
    {
     "data": {
      "text/plain": [
       "Household                 6000\n",
       "Electronics               6000\n",
       "Clothing & Accessories    6000\n",
       "Books                     6000\n",
       "Name: label, dtype: int64"
      ]
     },
     "execution_count": 3,
     "metadata": {},
     "output_type": "execute_result"
    }
   ],
   "source": [
    "df.label.value_counts()"
   ]
  },
  {
   "cell_type": "code",
   "execution_count": 4,
   "id": "697fdf74",
   "metadata": {},
   "outputs": [],
   "source": [
    "df['label_num']=df.label.map({\n",
    "    'Household': 0,\n",
    "    'Books': 1,\n",
    "    'Electronics': 2,\n",
    "    'Clothing & Accessories': 3\n",
    "})"
   ]
  },
  {
   "cell_type": "code",
   "execution_count": 5,
   "id": "c64960a9",
   "metadata": {},
   "outputs": [
    {
     "data": {
      "text/html": [
       "<div>\n",
       "<style scoped>\n",
       "    .dataframe tbody tr th:only-of-type {\n",
       "        vertical-align: middle;\n",
       "    }\n",
       "\n",
       "    .dataframe tbody tr th {\n",
       "        vertical-align: top;\n",
       "    }\n",
       "\n",
       "    .dataframe thead th {\n",
       "        text-align: right;\n",
       "    }\n",
       "</style>\n",
       "<table border=\"1\" class=\"dataframe\">\n",
       "  <thead>\n",
       "    <tr style=\"text-align: right;\">\n",
       "      <th></th>\n",
       "      <th>Text</th>\n",
       "      <th>label</th>\n",
       "      <th>label_num</th>\n",
       "    </tr>\n",
       "  </thead>\n",
       "  <tbody>\n",
       "    <tr>\n",
       "      <th>0</th>\n",
       "      <td>Urban Ladder Eisner Low Back Study-Office Comp...</td>\n",
       "      <td>Household</td>\n",
       "      <td>0</td>\n",
       "    </tr>\n",
       "    <tr>\n",
       "      <th>1</th>\n",
       "      <td>Contrast living Wooden Decorative Box,Painted ...</td>\n",
       "      <td>Household</td>\n",
       "      <td>0</td>\n",
       "    </tr>\n",
       "    <tr>\n",
       "      <th>2</th>\n",
       "      <td>IO Crest SY-PCI40010 PCI RAID Host Controller ...</td>\n",
       "      <td>Electronics</td>\n",
       "      <td>2</td>\n",
       "    </tr>\n",
       "    <tr>\n",
       "      <th>3</th>\n",
       "      <td>ISAKAA Baby Socks from Just Born to 8 Years- P...</td>\n",
       "      <td>Clothing &amp; Accessories</td>\n",
       "      <td>3</td>\n",
       "    </tr>\n",
       "    <tr>\n",
       "      <th>4</th>\n",
       "      <td>Indira Designer Women's Art Mysore Silk Saree ...</td>\n",
       "      <td>Clothing &amp; Accessories</td>\n",
       "      <td>3</td>\n",
       "    </tr>\n",
       "  </tbody>\n",
       "</table>\n",
       "</div>"
      ],
      "text/plain": [
       "                                                Text                   label  \\\n",
       "0  Urban Ladder Eisner Low Back Study-Office Comp...               Household   \n",
       "1  Contrast living Wooden Decorative Box,Painted ...               Household   \n",
       "2  IO Crest SY-PCI40010 PCI RAID Host Controller ...             Electronics   \n",
       "3  ISAKAA Baby Socks from Just Born to 8 Years- P...  Clothing & Accessories   \n",
       "4  Indira Designer Women's Art Mysore Silk Saree ...  Clothing & Accessories   \n",
       "\n",
       "   label_num  \n",
       "0          0  \n",
       "1          0  \n",
       "2          2  \n",
       "3          3  \n",
       "4          3  "
      ]
     },
     "execution_count": 5,
     "metadata": {},
     "output_type": "execute_result"
    }
   ],
   "source": [
    "df.head()"
   ]
  },
  {
   "cell_type": "code",
   "execution_count": 6,
   "id": "cc4e90f2",
   "metadata": {},
   "outputs": [],
   "source": [
    "from sklearn.model_selection import train_test_split"
   ]
  },
  {
   "cell_type": "code",
   "execution_count": 17,
   "id": "df15e808",
   "metadata": {},
   "outputs": [],
   "source": [
    "X_train,X_test,y_train,y_test=train_test_split(\n",
    "df.Text,df.label_num,test_size=0.2,random_state=2022,stratify=df.label_num)"
   ]
  },
  {
   "cell_type": "code",
   "execution_count": 18,
   "id": "9f9185db",
   "metadata": {},
   "outputs": [
    {
     "name": "stdout",
     "output_type": "stream",
     "text": [
      "Shape of X_train : (19200,)\n",
      "Shape of X_test:  (4800,)\n"
     ]
    }
   ],
   "source": [
    "print(\"Shape of X_train :\",X_train.shape)\n",
    "print(\"Shape of X_test: \",X_test.shape)"
   ]
  },
  {
   "cell_type": "code",
   "execution_count": 19,
   "id": "9c464d19",
   "metadata": {},
   "outputs": [
    {
     "data": {
      "text/plain": [
       "0    4800\n",
       "2    4800\n",
       "3    4800\n",
       "1    4800\n",
       "Name: label_num, dtype: int64"
      ]
     },
     "execution_count": 19,
     "metadata": {},
     "output_type": "execute_result"
    }
   ],
   "source": [
    "y_train.value_counts()"
   ]
  },
  {
   "cell_type": "code",
   "execution_count": 20,
   "id": "16e715bd",
   "metadata": {},
   "outputs": [
    {
     "data": {
      "text/plain": [
       "0    1200\n",
       "2    1200\n",
       "3    1200\n",
       "1    1200\n",
       "Name: label_num, dtype: int64"
      ]
     },
     "execution_count": 20,
     "metadata": {},
     "output_type": "execute_result"
    }
   ],
   "source": [
    "y_test.value_counts()"
   ]
  },
  {
   "cell_type": "code",
   "execution_count": 32,
   "id": "b3e60436",
   "metadata": {},
   "outputs": [
    {
     "data": {
      "text/plain": [
       "\"IRIS Furniture Children Deluxe Spiderman Toddler Bed with Attached guardrails Toddler Bed from IRIS Make dreams come true with beds featuring their favourite characters. Your child will love this bed that features his or her favourite characters on the headboard and footboard. A sturdy plastic and steel frame with toddler guardrails on both sides will help ensure that your little one stays safely in bed. A Bed with Style This bed evokes the characters and stories kids love to dream about. Colourful graphics on the headboard and footboard help spark your child's imagination. Sweet Dreams Cozy and just-their-size, this toddler bed will create a space they love spending time in. Climb Right In The bed is low to the ground to help make it easy for your little one to get into and out of Stay Safe Two attached toddler guardrails keep your child tucked in safely throughout the night and help your little one transition from a crib to a toddler-size bed.\""
      ]
     },
     "execution_count": 32,
     "metadata": {},
     "output_type": "execute_result"
    }
   ],
   "source": [
    "X_train[15820]"
   ]
  },
  {
   "cell_type": "code",
   "execution_count": 36,
   "id": "2c5b03d6",
   "metadata": {},
   "outputs": [],
   "source": [
    "from sklearn.neighbors import KNeighborsClassifier\n",
    "from sklearn.pipeline import Pipeline\n",
    "from sklearn.metrics import classification_report"
   ]
  },
  {
   "cell_type": "code",
   "execution_count": 50,
   "id": "794bf92f",
   "metadata": {},
   "outputs": [],
   "source": [
    "clf= Pipeline([\n",
    "    ('vectorizer_ifidf',TfidfVectorizer()),\n",
    "    ('KNN',KNeighborsClassifier())\n",
    "])"
   ]
  },
  {
   "cell_type": "code",
   "execution_count": 53,
   "id": "31bcafee",
   "metadata": {},
   "outputs": [
    {
     "name": "stdout",
     "output_type": "stream",
     "text": [
      "              precision    recall  f1-score   support\n",
      "\n",
      "           0       0.95      0.96      0.95      1200\n",
      "           1       0.97      0.95      0.96      1200\n",
      "           2       0.97      0.97      0.97      1200\n",
      "           3       0.97      0.98      0.97      1200\n",
      "\n",
      "    accuracy                           0.96      4800\n",
      "   macro avg       0.96      0.96      0.96      4800\n",
      "weighted avg       0.96      0.96      0.96      4800\n",
      "\n"
     ]
    }
   ],
   "source": [
    "clf.fit(X_train,y_train)\n",
    "y_pred=clf.predict(X_test)\n",
    "print(classification_report(y_test,y_pred))"
   ]
  },
  {
   "cell_type": "code",
   "execution_count": null,
   "id": "7c301276",
   "metadata": {},
   "outputs": [],
   "source": []
  },
  {
   "cell_type": "code",
   "execution_count": null,
   "id": "11d97e25",
   "metadata": {},
   "outputs": [],
   "source": []
  },
  {
   "cell_type": "code",
   "execution_count": null,
   "id": "fbd7cdcd",
   "metadata": {},
   "outputs": [],
   "source": []
  }
 ],
 "metadata": {
  "kernelspec": {
   "display_name": "Python 3 (ipykernel)",
   "language": "python",
   "name": "python3"
  },
  "language_info": {
   "codemirror_mode": {
    "name": "ipython",
    "version": 3
   },
   "file_extension": ".py",
   "mimetype": "text/x-python",
   "name": "python",
   "nbconvert_exporter": "python",
   "pygments_lexer": "ipython3",
   "version": "3.9.13"
  }
 },
 "nbformat": 4,
 "nbformat_minor": 5
}
